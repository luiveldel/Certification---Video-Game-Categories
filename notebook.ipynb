{
 "cells": [
  {
   "cell_type": "markdown",
   "id": "homeless-quality",
   "metadata": {
    "id": "bA5ajAmk7XH6"
   },
   "source": [
    "# DataCamp Certification Case Study\n",
    "\n",
    "### Project Brief\n",
    "\n",
    "Congratulations, you have just landed your first job as a data scientist at Snow Cone Games! Snow Cone Games are a digital retailer for video games. For your first assignment, you will be working with the product manager to find new ways to categorize games on their homepage. \n",
    "\n",
    "She has recently learned that only 23% of buyers search for games using the genre filter (e.g., action, sports, etc). 71% of buyers use advanced filters to find the types of games that appeal to them. She hopes that creative new categories based on different game attributes can help players find what they are looking for faster.\n",
    "\n",
    "You have a dataset containing the Snow Cone Games’ library of over 40,000 video games. The product manager would like to see if you can group the data into categories that make sense. She has also told you that she wants to avoid more than five categories if possible, as any more would be difficult to fit into the platform homepage. \n",
    "\n",
    "You will need to present your findings in two formats:\n",
    "- You must submit a written report summarising your analysis to your manager. As a data science manager, your manager has a strong technical background and wants to understand what you have done and why. \n",
    "- You will then need to share your findings with the product manager in a 10 minute presentation. The product manager has no data science background but is familiar with basic data related terminology. \n",
    "\n",
    "The data you will use for this analysis can be accessed here: `\"data/video_games.csv\"`"
   ]
  },
  {
   "cell_type": "markdown",
   "id": "a92b48c2-fa72-4e06-adba-b11e93f80581",
   "metadata": {},
   "source": [
    "### 0. Frame the problem and look at the Big Picture\n",
    "1. This problem looks to improve the user experience by giving a faster way to find out what they are looking for using categories. We have to find 5 categories in order to do that.\n",
    "2. We are facing to a *supervised problem* because we are given labeled data.\n",
    "3. It is *multivariate* because we are predicting multiple variables.\n",
    "4. It is *classification* because we are predicting classes.\n",
    "5. Performance should be measured by confussion matrix, false positive & false negative, accuracy, precission, recall and F-1 score. We can try ROC and AUC."
   ]
  },
  {
   "cell_type": "markdown",
   "id": "f89cb4a7-6e6d-4a0f-9f6d-4639895ee15e",
   "metadata": {},
   "source": [
    "## 1. Importing libraries"
   ]
  },
  {
   "cell_type": "code",
   "execution_count": 1,
   "id": "dramatic-hampshire",
   "metadata": {
    "scrolled": true
   },
   "outputs": [],
   "source": [
    "import pandas as pd\n",
    "import numpy as np\n",
    "import seaborn as sns\n",
    "import matplotlib.pyplot as plt\n",
    "import os\n",
    "\n",
    "# Configure visualizations\n",
    "plt.rcParams['figure.figsize'] = [8, 4]\n",
    "sns.set_theme(style='darkgrid')\n",
    "\n",
    "from sklearn.cluster import KMeans\n",
    "from sklearn.metrics import silhouette_score"
   ]
  },
  {
   "cell_type": "markdown",
   "id": "24ce0634-2adb-4b2d-90c5-1db2046c8c85",
   "metadata": {},
   "source": [
    "### 2. Import and Inspect the data"
   ]
  },
  {
   "cell_type": "code",
   "execution_count": 2,
   "id": "15332ff0-e78c-4bc9-9c90-d3ccfbd0e2d1",
   "metadata": {},
   "outputs": [
    {
     "data": {
      "text/plain": [
       "'g:\\\\Mi unidad\\\\Data Science & Data Analyst\\\\Projects\\\\Datacamp\\\\Certification - Video Game Categories\\\\data/video_games.csv'"
      ]
     },
     "execution_count": 2,
     "metadata": {},
     "output_type": "execute_result"
    }
   ],
   "source": [
    "# Present working directory\n",
    "pwd = os.getcwd()\n",
    "filepath = os.path.join(pwd,\"data/video_games.csv\")\n",
    "filepath"
   ]
  },
  {
   "cell_type": "code",
   "execution_count": 3,
   "id": "eee240e1-4f6b-4042-acad-aaf5bce44bf2",
   "metadata": {},
   "outputs": [
    {
     "name": "stderr",
     "output_type": "stream",
     "text": [
      "C:\\Users\\Luis Andres\\miniconda3\\lib\\site-packages\\pandas\\io\\parsers\\base_parser.py:1070: UserWarning: Parsing '20/06/2019' in DD/MM/YYYY format. Provide format or specify infer_datetime_format=True for consistent parsing.\n",
      "  return tools.to_datetime(\n"
     ]
    },
    {
     "data": {
      "text/html": [
       "<div>\n",
       "<style scoped>\n",
       "    .dataframe tbody tr th:only-of-type {\n",
       "        vertical-align: middle;\n",
       "    }\n",
       "\n",
       "    .dataframe tbody tr th {\n",
       "        vertical-align: top;\n",
       "    }\n",
       "\n",
       "    .dataframe thead th {\n",
       "        text-align: right;\n",
       "    }\n",
       "</style>\n",
       "<table border=\"1\" class=\"dataframe\">\n",
       "  <thead>\n",
       "    <tr style=\"text-align: right;\">\n",
       "      <th></th>\n",
       "      <th>name</th>\n",
       "      <th>release_date</th>\n",
       "      <th>developer</th>\n",
       "      <th>achievements</th>\n",
       "      <th>original_price</th>\n",
       "      <th>percent_positive</th>\n",
       "      <th>num_reviews</th>\n",
       "      <th>multiplayer</th>\n",
       "      <th>mature</th>\n",
       "    </tr>\n",
       "  </thead>\n",
       "  <tbody>\n",
       "    <tr>\n",
       "      <th>0</th>\n",
       "      <td>DOOM</td>\n",
       "      <td>May 12, 2016</td>\n",
       "      <td>id Software</td>\n",
       "      <td>54.0</td>\n",
       "      <td>$19.99</td>\n",
       "      <td>92%</td>\n",
       "      <td>42550.0</td>\n",
       "      <td>True</td>\n",
       "      <td>False</td>\n",
       "    </tr>\n",
       "    <tr>\n",
       "      <th>1</th>\n",
       "      <td>PLAYERUNKNOWN'S BATTLEGROUNDS</td>\n",
       "      <td>Dec 21, 2017</td>\n",
       "      <td>PUBG Corporation</td>\n",
       "      <td>37.0</td>\n",
       "      <td>$29.99</td>\n",
       "      <td>49%</td>\n",
       "      <td>836608.0</td>\n",
       "      <td>True</td>\n",
       "      <td>True</td>\n",
       "    </tr>\n",
       "    <tr>\n",
       "      <th>2</th>\n",
       "      <td>BATTLETECH</td>\n",
       "      <td>Apr 24, 2018</td>\n",
       "      <td>Harebrained Schemes</td>\n",
       "      <td>128.0</td>\n",
       "      <td>$39.99</td>\n",
       "      <td>71%</td>\n",
       "      <td>7030.0</td>\n",
       "      <td>True</td>\n",
       "      <td>False</td>\n",
       "    </tr>\n",
       "    <tr>\n",
       "      <th>3</th>\n",
       "      <td>DayZ</td>\n",
       "      <td>Dec 13, 2018</td>\n",
       "      <td>Bohemia Interactive</td>\n",
       "      <td>NaN</td>\n",
       "      <td>$44.99</td>\n",
       "      <td>61%</td>\n",
       "      <td>167115.0</td>\n",
       "      <td>True</td>\n",
       "      <td>False</td>\n",
       "    </tr>\n",
       "    <tr>\n",
       "      <th>4</th>\n",
       "      <td>EVE Online</td>\n",
       "      <td>May 6, 2003</td>\n",
       "      <td>CCP</td>\n",
       "      <td>NaN</td>\n",
       "      <td>Free</td>\n",
       "      <td>74%</td>\n",
       "      <td>11481.0</td>\n",
       "      <td>True</td>\n",
       "      <td>False</td>\n",
       "    </tr>\n",
       "    <tr>\n",
       "      <th>...</th>\n",
       "      <td>...</td>\n",
       "      <td>...</td>\n",
       "      <td>...</td>\n",
       "      <td>...</td>\n",
       "      <td>...</td>\n",
       "      <td>...</td>\n",
       "      <td>...</td>\n",
       "      <td>...</td>\n",
       "      <td>...</td>\n",
       "    </tr>\n",
       "    <tr>\n",
       "      <th>40828</th>\n",
       "      <td>Rocksmith® 2014 Edition – Remastered – Sabaton...</td>\n",
       "      <td>Feb 12, 2019</td>\n",
       "      <td>Ubisoft - San Francisco</td>\n",
       "      <td>NaN</td>\n",
       "      <td>$2.99</td>\n",
       "      <td>NaN</td>\n",
       "      <td>NaN</td>\n",
       "      <td>False</td>\n",
       "      <td>False</td>\n",
       "    </tr>\n",
       "    <tr>\n",
       "      <th>40829</th>\n",
       "      <td>Rocksmith® 2014 Edition – Remastered – Stone T...</td>\n",
       "      <td>Feb 5, 2019</td>\n",
       "      <td>Ubisoft - San Francisco</td>\n",
       "      <td>NaN</td>\n",
       "      <td>$2.99</td>\n",
       "      <td>NaN</td>\n",
       "      <td>NaN</td>\n",
       "      <td>False</td>\n",
       "      <td>False</td>\n",
       "    </tr>\n",
       "    <tr>\n",
       "      <th>40830</th>\n",
       "      <td>Fantasy Grounds - Quests of Doom 4: A Midnight...</td>\n",
       "      <td>Jul 31, 2018</td>\n",
       "      <td>SmiteWorks USA, LLC</td>\n",
       "      <td>NaN</td>\n",
       "      <td>$7.99</td>\n",
       "      <td>NaN</td>\n",
       "      <td>NaN</td>\n",
       "      <td>True</td>\n",
       "      <td>False</td>\n",
       "    </tr>\n",
       "    <tr>\n",
       "      <th>40831</th>\n",
       "      <td>Mega Man X5 Sound Collection</td>\n",
       "      <td>Jul 24, 2018</td>\n",
       "      <td>CAPCOM CO., LTD</td>\n",
       "      <td>NaN</td>\n",
       "      <td>$9.99</td>\n",
       "      <td>NaN</td>\n",
       "      <td>NaN</td>\n",
       "      <td>False</td>\n",
       "      <td>False</td>\n",
       "    </tr>\n",
       "    <tr>\n",
       "      <th>40832</th>\n",
       "      <td>Stories In Stone</td>\n",
       "      <td>Aug 8, 2018</td>\n",
       "      <td>16 Bit Psych,Kyle B</td>\n",
       "      <td>NaN</td>\n",
       "      <td>$4.99</td>\n",
       "      <td>NaN</td>\n",
       "      <td>NaN</td>\n",
       "      <td>False</td>\n",
       "      <td>False</td>\n",
       "    </tr>\n",
       "  </tbody>\n",
       "</table>\n",
       "<p>40833 rows × 9 columns</p>\n",
       "</div>"
      ],
      "text/plain": [
       "                                                    name  release_date  \\\n",
       "0                                                   DOOM  May 12, 2016   \n",
       "1                          PLAYERUNKNOWN'S BATTLEGROUNDS  Dec 21, 2017   \n",
       "2                                             BATTLETECH  Apr 24, 2018   \n",
       "3                                                   DayZ  Dec 13, 2018   \n",
       "4                                             EVE Online   May 6, 2003   \n",
       "...                                                  ...           ...   \n",
       "40828  Rocksmith® 2014 Edition – Remastered – Sabaton...  Feb 12, 2019   \n",
       "40829  Rocksmith® 2014 Edition – Remastered – Stone T...   Feb 5, 2019   \n",
       "40830  Fantasy Grounds - Quests of Doom 4: A Midnight...  Jul 31, 2018   \n",
       "40831                       Mega Man X5 Sound Collection  Jul 24, 2018   \n",
       "40832                                   Stories In Stone   Aug 8, 2018   \n",
       "\n",
       "                     developer  achievements original_price percent_positive  \\\n",
       "0                  id Software          54.0         $19.99              92%   \n",
       "1             PUBG Corporation          37.0         $29.99              49%   \n",
       "2          Harebrained Schemes         128.0         $39.99              71%   \n",
       "3          Bohemia Interactive           NaN         $44.99              61%   \n",
       "4                          CCP           NaN           Free              74%   \n",
       "...                        ...           ...            ...              ...   \n",
       "40828  Ubisoft - San Francisco           NaN          $2.99              NaN   \n",
       "40829  Ubisoft - San Francisco           NaN          $2.99              NaN   \n",
       "40830      SmiteWorks USA, LLC           NaN          $7.99              NaN   \n",
       "40831          CAPCOM CO., LTD           NaN          $9.99              NaN   \n",
       "40832      16 Bit Psych,Kyle B           NaN          $4.99              NaN   \n",
       "\n",
       "       num_reviews multiplayer  mature  \n",
       "0          42550.0        True   False  \n",
       "1         836608.0        True    True  \n",
       "2           7030.0        True   False  \n",
       "3         167115.0        True   False  \n",
       "4          11481.0        True   False  \n",
       "...            ...         ...     ...  \n",
       "40828          NaN       False   False  \n",
       "40829          NaN       False   False  \n",
       "40830          NaN        True   False  \n",
       "40831          NaN       False   False  \n",
       "40832          NaN       False   False  \n",
       "\n",
       "[40833 rows x 9 columns]"
      ]
     },
     "execution_count": 3,
     "metadata": {},
     "output_type": "execute_result"
    }
   ],
   "source": [
    "# Creating a dataframe with the CSV in it.\n",
    "df = pd.read_csv(filepath, parse_dates=[\"release_date\"], cache_dates=True)\n",
    "\n",
    "# Preview the data\n",
    "df"
   ]
  },
  {
   "cell_type": "code",
   "execution_count": 4,
   "id": "9993ecff-a0ea-4d07-9202-d0dd4b2ebfff",
   "metadata": {},
   "outputs": [
    {
     "name": "stdout",
     "output_type": "stream",
     "text": [
      "<class 'pandas.core.frame.DataFrame'>\n",
      "RangeIndex: 40833 entries, 0 to 40832\n",
      "Data columns (total 9 columns):\n",
      " #   Column            Non-Null Count  Dtype  \n",
      "---  ------            --------------  -----  \n",
      " 0   name              40817 non-null  object \n",
      " 1   release_date      37654 non-null  object \n",
      " 2   developer         40490 non-null  object \n",
      " 3   achievements      12194 non-null  float64\n",
      " 4   original_price    35522 non-null  object \n",
      " 5   percent_positive  17363 non-null  object \n",
      " 6   num_reviews       17363 non-null  float64\n",
      " 7   multiplayer       40313 non-null  object \n",
      " 8   mature            40833 non-null  bool   \n",
      "dtypes: bool(1), float64(2), object(6)\n",
      "memory usage: 2.5+ MB\n"
     ]
    }
   ],
   "source": [
    "df.info()"
   ]
  },
  {
   "cell_type": "markdown",
   "id": "3849a865-8648-4d1a-b933-e078155c097b",
   "metadata": {},
   "source": [
    "From info() we can say we've got a 40833. There are missing values."
   ]
  },
  {
   "cell_type": "markdown",
   "id": "b57bdc02-1572-47ca-a1b8-087eaeb0e56b",
   "metadata": {},
   "source": [
    "Lets have a look individualy each column:\n",
    "* name\n",
    "* release_date: to datetime. Pandas see it as an object\n",
    "* developer\n",
    "* achievement: number of achievements players can earn, is this important? just 1/4 data available.\n",
    "* original_price: price is not float. Convert \"Free\" as 0$?\n",
    "* percent_positive: convert to int\n",
    "* num_reviews: we can split this in 3-4 categories.\n",
    "* multiplayer: convert to bool.\n",
    "* mature"
   ]
  },
  {
   "cell_type": "code",
   "execution_count": 5,
   "id": "9d286b7e-b186-41a0-b769-982537101b0f",
   "metadata": {},
   "outputs": [
    {
     "data": {
      "text/plain": [
       "name                   16\n",
       "release_date         3179\n",
       "developer             343\n",
       "achievements        28639\n",
       "original_price       5311\n",
       "percent_positive    23470\n",
       "num_reviews         23470\n",
       "multiplayer           520\n",
       "mature                  0\n",
       "dtype: int64"
      ]
     },
     "execution_count": 5,
     "metadata": {},
     "output_type": "execute_result"
    }
   ],
   "source": [
    "df.isnull().sum()"
   ]
  },
  {
   "cell_type": "code",
   "execution_count": 6,
   "id": "eeafdeec-2af7-48d2-884b-1fac8c58a295",
   "metadata": {},
   "outputs": [
    {
     "data": {
      "text/html": [
       "<div>\n",
       "<style scoped>\n",
       "    .dataframe tbody tr th:only-of-type {\n",
       "        vertical-align: middle;\n",
       "    }\n",
       "\n",
       "    .dataframe tbody tr th {\n",
       "        vertical-align: top;\n",
       "    }\n",
       "\n",
       "    .dataframe thead th {\n",
       "        text-align: right;\n",
       "    }\n",
       "</style>\n",
       "<table border=\"1\" class=\"dataframe\">\n",
       "  <thead>\n",
       "    <tr style=\"text-align: right;\">\n",
       "      <th></th>\n",
       "      <th>name</th>\n",
       "      <th>release_date</th>\n",
       "      <th>developer</th>\n",
       "      <th>achievements</th>\n",
       "      <th>original_price</th>\n",
       "      <th>percent_positive</th>\n",
       "      <th>num_reviews</th>\n",
       "      <th>multiplayer</th>\n",
       "      <th>mature</th>\n",
       "    </tr>\n",
       "  </thead>\n",
       "  <tbody>\n",
       "    <tr>\n",
       "      <th>704</th>\n",
       "      <td>NaN</td>\n",
       "      <td>NaN</td>\n",
       "      <td>NaN</td>\n",
       "      <td>NaN</td>\n",
       "      <td>$29.99</td>\n",
       "      <td>NaN</td>\n",
       "      <td>NaN</td>\n",
       "      <td>NaN</td>\n",
       "      <td>False</td>\n",
       "    </tr>\n",
       "    <tr>\n",
       "      <th>4847</th>\n",
       "      <td>NaN</td>\n",
       "      <td>NaN</td>\n",
       "      <td>NaN</td>\n",
       "      <td>NaN</td>\n",
       "      <td>NaN</td>\n",
       "      <td>NaN</td>\n",
       "      <td>NaN</td>\n",
       "      <td>NaN</td>\n",
       "      <td>False</td>\n",
       "    </tr>\n",
       "    <tr>\n",
       "      <th>6381</th>\n",
       "      <td>NaN</td>\n",
       "      <td>NaN</td>\n",
       "      <td>NaN</td>\n",
       "      <td>NaN</td>\n",
       "      <td>NaN</td>\n",
       "      <td>NaN</td>\n",
       "      <td>NaN</td>\n",
       "      <td>NaN</td>\n",
       "      <td>False</td>\n",
       "    </tr>\n",
       "    <tr>\n",
       "      <th>7869</th>\n",
       "      <td>NaN</td>\n",
       "      <td>NaN</td>\n",
       "      <td>NaN</td>\n",
       "      <td>NaN</td>\n",
       "      <td>NaN</td>\n",
       "      <td>NaN</td>\n",
       "      <td>NaN</td>\n",
       "      <td>NaN</td>\n",
       "      <td>False</td>\n",
       "    </tr>\n",
       "    <tr>\n",
       "      <th>9615</th>\n",
       "      <td>NaN</td>\n",
       "      <td>NaN</td>\n",
       "      <td>NaN</td>\n",
       "      <td>NaN</td>\n",
       "      <td>NaN</td>\n",
       "      <td>NaN</td>\n",
       "      <td>NaN</td>\n",
       "      <td>NaN</td>\n",
       "      <td>False</td>\n",
       "    </tr>\n",
       "    <tr>\n",
       "      <th>9616</th>\n",
       "      <td>NaN</td>\n",
       "      <td>NaN</td>\n",
       "      <td>NaN</td>\n",
       "      <td>NaN</td>\n",
       "      <td>NaN</td>\n",
       "      <td>NaN</td>\n",
       "      <td>NaN</td>\n",
       "      <td>NaN</td>\n",
       "      <td>False</td>\n",
       "    </tr>\n",
       "    <tr>\n",
       "      <th>9956</th>\n",
       "      <td>NaN</td>\n",
       "      <td>NaN</td>\n",
       "      <td>NaN</td>\n",
       "      <td>NaN</td>\n",
       "      <td>NaN</td>\n",
       "      <td>NaN</td>\n",
       "      <td>NaN</td>\n",
       "      <td>NaN</td>\n",
       "      <td>False</td>\n",
       "    </tr>\n",
       "    <tr>\n",
       "      <th>12146</th>\n",
       "      <td>NaN</td>\n",
       "      <td>NaN</td>\n",
       "      <td>NaN</td>\n",
       "      <td>NaN</td>\n",
       "      <td>NaN</td>\n",
       "      <td>NaN</td>\n",
       "      <td>NaN</td>\n",
       "      <td>NaN</td>\n",
       "      <td>False</td>\n",
       "    </tr>\n",
       "    <tr>\n",
       "      <th>12879</th>\n",
       "      <td>NaN</td>\n",
       "      <td>NaN</td>\n",
       "      <td>NaN</td>\n",
       "      <td>NaN</td>\n",
       "      <td>NaN</td>\n",
       "      <td>NaN</td>\n",
       "      <td>NaN</td>\n",
       "      <td>NaN</td>\n",
       "      <td>False</td>\n",
       "    </tr>\n",
       "    <tr>\n",
       "      <th>23099</th>\n",
       "      <td>NaN</td>\n",
       "      <td>NaN</td>\n",
       "      <td>NaN</td>\n",
       "      <td>NaN</td>\n",
       "      <td>NaN</td>\n",
       "      <td>NaN</td>\n",
       "      <td>NaN</td>\n",
       "      <td>NaN</td>\n",
       "      <td>False</td>\n",
       "    </tr>\n",
       "    <tr>\n",
       "      <th>28380</th>\n",
       "      <td>NaN</td>\n",
       "      <td>NaN</td>\n",
       "      <td>NaN</td>\n",
       "      <td>NaN</td>\n",
       "      <td>NaN</td>\n",
       "      <td>NaN</td>\n",
       "      <td>NaN</td>\n",
       "      <td>NaN</td>\n",
       "      <td>False</td>\n",
       "    </tr>\n",
       "    <tr>\n",
       "      <th>31321</th>\n",
       "      <td>NaN</td>\n",
       "      <td>NaN</td>\n",
       "      <td>NaN</td>\n",
       "      <td>NaN</td>\n",
       "      <td>NaN</td>\n",
       "      <td>NaN</td>\n",
       "      <td>NaN</td>\n",
       "      <td>False</td>\n",
       "      <td>False</td>\n",
       "    </tr>\n",
       "    <tr>\n",
       "      <th>34989</th>\n",
       "      <td>NaN</td>\n",
       "      <td>NaN</td>\n",
       "      <td>NaN</td>\n",
       "      <td>NaN</td>\n",
       "      <td>NaN</td>\n",
       "      <td>NaN</td>\n",
       "      <td>NaN</td>\n",
       "      <td>False</td>\n",
       "      <td>False</td>\n",
       "    </tr>\n",
       "    <tr>\n",
       "      <th>34991</th>\n",
       "      <td>NaN</td>\n",
       "      <td>NaN</td>\n",
       "      <td>NaN</td>\n",
       "      <td>NaN</td>\n",
       "      <td>NaN</td>\n",
       "      <td>NaN</td>\n",
       "      <td>NaN</td>\n",
       "      <td>False</td>\n",
       "      <td>False</td>\n",
       "    </tr>\n",
       "    <tr>\n",
       "      <th>35169</th>\n",
       "      <td>NaN</td>\n",
       "      <td>NaN</td>\n",
       "      <td>NaN</td>\n",
       "      <td>NaN</td>\n",
       "      <td>NaN</td>\n",
       "      <td>NaN</td>\n",
       "      <td>NaN</td>\n",
       "      <td>NaN</td>\n",
       "      <td>False</td>\n",
       "    </tr>\n",
       "    <tr>\n",
       "      <th>39575</th>\n",
       "      <td>NaN</td>\n",
       "      <td>Q1 2019</td>\n",
       "      <td>NaN</td>\n",
       "      <td>NaN</td>\n",
       "      <td>NaN</td>\n",
       "      <td>NaN</td>\n",
       "      <td>NaN</td>\n",
       "      <td>True</td>\n",
       "      <td>False</td>\n",
       "    </tr>\n",
       "  </tbody>\n",
       "</table>\n",
       "</div>"
      ],
      "text/plain": [
       "      name release_date developer  achievements original_price  \\\n",
       "704    NaN          NaN       NaN           NaN         $29.99   \n",
       "4847   NaN          NaN       NaN           NaN            NaN   \n",
       "6381   NaN          NaN       NaN           NaN            NaN   \n",
       "7869   NaN          NaN       NaN           NaN            NaN   \n",
       "9615   NaN          NaN       NaN           NaN            NaN   \n",
       "9616   NaN          NaN       NaN           NaN            NaN   \n",
       "9956   NaN          NaN       NaN           NaN            NaN   \n",
       "12146  NaN          NaN       NaN           NaN            NaN   \n",
       "12879  NaN          NaN       NaN           NaN            NaN   \n",
       "23099  NaN          NaN       NaN           NaN            NaN   \n",
       "28380  NaN          NaN       NaN           NaN            NaN   \n",
       "31321  NaN          NaN       NaN           NaN            NaN   \n",
       "34989  NaN          NaN       NaN           NaN            NaN   \n",
       "34991  NaN          NaN       NaN           NaN            NaN   \n",
       "35169  NaN          NaN       NaN           NaN            NaN   \n",
       "39575  NaN      Q1 2019       NaN           NaN            NaN   \n",
       "\n",
       "      percent_positive  num_reviews multiplayer  mature  \n",
       "704                NaN          NaN         NaN   False  \n",
       "4847               NaN          NaN         NaN   False  \n",
       "6381               NaN          NaN         NaN   False  \n",
       "7869               NaN          NaN         NaN   False  \n",
       "9615               NaN          NaN         NaN   False  \n",
       "9616               NaN          NaN         NaN   False  \n",
       "9956               NaN          NaN         NaN   False  \n",
       "12146              NaN          NaN         NaN   False  \n",
       "12879              NaN          NaN         NaN   False  \n",
       "23099              NaN          NaN         NaN   False  \n",
       "28380              NaN          NaN         NaN   False  \n",
       "31321              NaN          NaN       False   False  \n",
       "34989              NaN          NaN       False   False  \n",
       "34991              NaN          NaN       False   False  \n",
       "35169              NaN          NaN         NaN   False  \n",
       "39575              NaN          NaN        True   False  "
      ]
     },
     "execution_count": 6,
     "metadata": {},
     "output_type": "execute_result"
    }
   ],
   "source": [
    "# We can drop nan from \"name\"\n",
    "df[df[\"name\"].isna()]"
   ]
  },
  {
   "cell_type": "code",
   "execution_count": 7,
   "id": "3e0d1e07-2321-43c8-a576-818cf0a4fb1b",
   "metadata": {},
   "outputs": [
    {
     "data": {
      "text/plain": [
       "$4.99                    4123\n",
       "$9.99                    3903\n",
       "$0.99                    3569\n",
       "$2.99                    3371\n",
       "$1.99                    2764\n",
       "                         ... \n",
       "$289.99                     1\n",
       "Sanguine Sanctum Demo       1\n",
       "$5.56                       1\n",
       "$16.88                      1\n",
       "$1.09                       1\n",
       "Name: original_price, Length: 681, dtype: int64"
      ]
     },
     "execution_count": 7,
     "metadata": {},
     "output_type": "execute_result"
    }
   ],
   "source": [
    "# original_price needs a deeper clean\n",
    "df['original_price'].value_counts()"
   ]
  },
  {
   "cell_type": "code",
   "execution_count": 8,
   "id": "6fcc5f6f-a7f2-4584-9d85-d64654c26406",
   "metadata": {},
   "outputs": [
    {
     "data": {
      "text/plain": [
       "10.0      513\n",
       "12.0      484\n",
       "20.0      451\n",
       "15.0      380\n",
       "13.0      359\n",
       "         ... \n",
       "4013.0      1\n",
       "148.0       1\n",
       "4732.0      1\n",
       "408.0       1\n",
       "333.0       1\n",
       "Name: achievements, Length: 360, dtype: int64"
      ]
     },
     "execution_count": 8,
     "metadata": {},
     "output_type": "execute_result"
    }
   ],
   "source": [
    "df['achievements'].value_counts()"
   ]
  },
  {
   "cell_type": "code",
   "execution_count": 9,
   "id": "25c34577-87a1-4759-bed0-3623c1ba211e",
   "metadata": {},
   "outputs": [
    {
     "data": {
      "text/plain": [
       "False    29233\n",
       "True     11080\n",
       "Name: multiplayer, dtype: int64"
      ]
     },
     "execution_count": 9,
     "metadata": {},
     "output_type": "execute_result"
    }
   ],
   "source": [
    "df['multiplayer'].value_counts()"
   ]
  },
  {
   "cell_type": "code",
   "execution_count": 10,
   "id": "2aac7a2e-01d8-40fa-93df-e14880f1a62a",
   "metadata": {},
   "outputs": [
    {
     "data": {
      "text/plain": [
       "100%    722\n",
       "90%     594\n",
       "92%     510\n",
       "88%     475\n",
       "80%     474\n",
       "       ... \n",
       "6%        4\n",
       "5%        4\n",
       "4%        2\n",
       "3%        2\n",
       "2%        1\n",
       "Name: percent_positive, Length: 100, dtype: int64"
      ]
     },
     "execution_count": 10,
     "metadata": {},
     "output_type": "execute_result"
    }
   ],
   "source": [
    "df['percent_positive'].value_counts()"
   ]
  },
  {
   "cell_type": "markdown",
   "id": "fa5fad2b-d1e4-4d6d-8d07-d995aafdfe83",
   "metadata": {},
   "source": [
    "### 3. Data Cleaning"
   ]
  },
  {
   "cell_type": "markdown",
   "id": "2ca4b0d1-2481-4388-80c1-0a660da233ef",
   "metadata": {},
   "source": [
    "Assumptions:\n",
    "1. name: nulls drop, no info in it\n",
    "2. developer: if null, \"Other\" developer\n",
    "3. achievements: if null, 0 achievements\n",
    "4. original_price: clean. if null, free = 0$\n",
    "5. num_reviews: if null, no reviews so 0 reviews.\n",
    "6. multiplayer: if null, no multiplayer, so False\n",
    "7. percent_positive: clean, if null, 0%\n",
    "8. release_date: keeping just the year release"
   ]
  },
  {
   "cell_type": "code",
   "execution_count": 11,
   "id": "5ac0598a-0ba9-4c31-8e68-29821e57af8e",
   "metadata": {},
   "outputs": [],
   "source": [
    "# 1 name, drop nulls\n",
    "df = df[df['name'].notna()]"
   ]
  },
  {
   "cell_type": "code",
   "execution_count": 12,
   "id": "19e5a186-0b8c-41eb-8c06-1a8975dc4721",
   "metadata": {},
   "outputs": [
    {
     "data": {
      "text/html": [
       "<div>\n",
       "<style scoped>\n",
       "    .dataframe tbody tr th:only-of-type {\n",
       "        vertical-align: middle;\n",
       "    }\n",
       "\n",
       "    .dataframe tbody tr th {\n",
       "        vertical-align: top;\n",
       "    }\n",
       "\n",
       "    .dataframe thead th {\n",
       "        text-align: right;\n",
       "    }\n",
       "</style>\n",
       "<table border=\"1\" class=\"dataframe\">\n",
       "  <thead>\n",
       "    <tr style=\"text-align: right;\">\n",
       "      <th></th>\n",
       "      <th>name</th>\n",
       "      <th>release_date</th>\n",
       "      <th>developer</th>\n",
       "      <th>achievements</th>\n",
       "      <th>original_price</th>\n",
       "      <th>percent_positive</th>\n",
       "      <th>num_reviews</th>\n",
       "      <th>multiplayer</th>\n",
       "      <th>mature</th>\n",
       "    </tr>\n",
       "  </thead>\n",
       "  <tbody>\n",
       "    <tr>\n",
       "      <th>0</th>\n",
       "      <td>DOOM</td>\n",
       "      <td>May 12, 2016</td>\n",
       "      <td>id Software</td>\n",
       "      <td>54.0</td>\n",
       "      <td>$19.99</td>\n",
       "      <td>92%</td>\n",
       "      <td>42550.0</td>\n",
       "      <td>True</td>\n",
       "      <td>False</td>\n",
       "    </tr>\n",
       "    <tr>\n",
       "      <th>1</th>\n",
       "      <td>PLAYERUNKNOWN'S BATTLEGROUNDS</td>\n",
       "      <td>Dec 21, 2017</td>\n",
       "      <td>PUBG Corporation</td>\n",
       "      <td>37.0</td>\n",
       "      <td>$29.99</td>\n",
       "      <td>49%</td>\n",
       "      <td>836608.0</td>\n",
       "      <td>True</td>\n",
       "      <td>True</td>\n",
       "    </tr>\n",
       "    <tr>\n",
       "      <th>2</th>\n",
       "      <td>BATTLETECH</td>\n",
       "      <td>Apr 24, 2018</td>\n",
       "      <td>Harebrained Schemes</td>\n",
       "      <td>128.0</td>\n",
       "      <td>$39.99</td>\n",
       "      <td>71%</td>\n",
       "      <td>7030.0</td>\n",
       "      <td>True</td>\n",
       "      <td>False</td>\n",
       "    </tr>\n",
       "    <tr>\n",
       "      <th>3</th>\n",
       "      <td>DayZ</td>\n",
       "      <td>Dec 13, 2018</td>\n",
       "      <td>Bohemia Interactive</td>\n",
       "      <td>NaN</td>\n",
       "      <td>$44.99</td>\n",
       "      <td>61%</td>\n",
       "      <td>167115.0</td>\n",
       "      <td>True</td>\n",
       "      <td>False</td>\n",
       "    </tr>\n",
       "    <tr>\n",
       "      <th>4</th>\n",
       "      <td>EVE Online</td>\n",
       "      <td>May 6, 2003</td>\n",
       "      <td>CCP</td>\n",
       "      <td>NaN</td>\n",
       "      <td>Free</td>\n",
       "      <td>74%</td>\n",
       "      <td>11481.0</td>\n",
       "      <td>True</td>\n",
       "      <td>False</td>\n",
       "    </tr>\n",
       "    <tr>\n",
       "      <th>...</th>\n",
       "      <td>...</td>\n",
       "      <td>...</td>\n",
       "      <td>...</td>\n",
       "      <td>...</td>\n",
       "      <td>...</td>\n",
       "      <td>...</td>\n",
       "      <td>...</td>\n",
       "      <td>...</td>\n",
       "      <td>...</td>\n",
       "    </tr>\n",
       "    <tr>\n",
       "      <th>40828</th>\n",
       "      <td>Rocksmith® 2014 Edition – Remastered – Sabaton...</td>\n",
       "      <td>Feb 12, 2019</td>\n",
       "      <td>Ubisoft - San Francisco</td>\n",
       "      <td>NaN</td>\n",
       "      <td>$2.99</td>\n",
       "      <td>NaN</td>\n",
       "      <td>NaN</td>\n",
       "      <td>False</td>\n",
       "      <td>False</td>\n",
       "    </tr>\n",
       "    <tr>\n",
       "      <th>40829</th>\n",
       "      <td>Rocksmith® 2014 Edition – Remastered – Stone T...</td>\n",
       "      <td>Feb 5, 2019</td>\n",
       "      <td>Ubisoft - San Francisco</td>\n",
       "      <td>NaN</td>\n",
       "      <td>$2.99</td>\n",
       "      <td>NaN</td>\n",
       "      <td>NaN</td>\n",
       "      <td>False</td>\n",
       "      <td>False</td>\n",
       "    </tr>\n",
       "    <tr>\n",
       "      <th>40830</th>\n",
       "      <td>Fantasy Grounds - Quests of Doom 4: A Midnight...</td>\n",
       "      <td>Jul 31, 2018</td>\n",
       "      <td>SmiteWorks USA, LLC</td>\n",
       "      <td>NaN</td>\n",
       "      <td>$7.99</td>\n",
       "      <td>NaN</td>\n",
       "      <td>NaN</td>\n",
       "      <td>True</td>\n",
       "      <td>False</td>\n",
       "    </tr>\n",
       "    <tr>\n",
       "      <th>40831</th>\n",
       "      <td>Mega Man X5 Sound Collection</td>\n",
       "      <td>Jul 24, 2018</td>\n",
       "      <td>CAPCOM CO., LTD</td>\n",
       "      <td>NaN</td>\n",
       "      <td>$9.99</td>\n",
       "      <td>NaN</td>\n",
       "      <td>NaN</td>\n",
       "      <td>False</td>\n",
       "      <td>False</td>\n",
       "    </tr>\n",
       "    <tr>\n",
       "      <th>40832</th>\n",
       "      <td>Stories In Stone</td>\n",
       "      <td>Aug 8, 2018</td>\n",
       "      <td>16 Bit Psych,Kyle B</td>\n",
       "      <td>NaN</td>\n",
       "      <td>$4.99</td>\n",
       "      <td>NaN</td>\n",
       "      <td>NaN</td>\n",
       "      <td>False</td>\n",
       "      <td>False</td>\n",
       "    </tr>\n",
       "  </tbody>\n",
       "</table>\n",
       "<p>40817 rows × 9 columns</p>\n",
       "</div>"
      ],
      "text/plain": [
       "                                                    name  release_date  \\\n",
       "0                                                   DOOM  May 12, 2016   \n",
       "1                          PLAYERUNKNOWN'S BATTLEGROUNDS  Dec 21, 2017   \n",
       "2                                             BATTLETECH  Apr 24, 2018   \n",
       "3                                                   DayZ  Dec 13, 2018   \n",
       "4                                             EVE Online   May 6, 2003   \n",
       "...                                                  ...           ...   \n",
       "40828  Rocksmith® 2014 Edition – Remastered – Sabaton...  Feb 12, 2019   \n",
       "40829  Rocksmith® 2014 Edition – Remastered – Stone T...   Feb 5, 2019   \n",
       "40830  Fantasy Grounds - Quests of Doom 4: A Midnight...  Jul 31, 2018   \n",
       "40831                       Mega Man X5 Sound Collection  Jul 24, 2018   \n",
       "40832                                   Stories In Stone   Aug 8, 2018   \n",
       "\n",
       "                     developer  achievements original_price percent_positive  \\\n",
       "0                  id Software          54.0         $19.99              92%   \n",
       "1             PUBG Corporation          37.0         $29.99              49%   \n",
       "2          Harebrained Schemes         128.0         $39.99              71%   \n",
       "3          Bohemia Interactive           NaN         $44.99              61%   \n",
       "4                          CCP           NaN           Free              74%   \n",
       "...                        ...           ...            ...              ...   \n",
       "40828  Ubisoft - San Francisco           NaN          $2.99              NaN   \n",
       "40829  Ubisoft - San Francisco           NaN          $2.99              NaN   \n",
       "40830      SmiteWorks USA, LLC           NaN          $7.99              NaN   \n",
       "40831          CAPCOM CO., LTD           NaN          $9.99              NaN   \n",
       "40832      16 Bit Psych,Kyle B           NaN          $4.99              NaN   \n",
       "\n",
       "       num_reviews multiplayer  mature  \n",
       "0          42550.0        True   False  \n",
       "1         836608.0        True    True  \n",
       "2           7030.0        True   False  \n",
       "3         167115.0        True   False  \n",
       "4          11481.0        True   False  \n",
       "...            ...         ...     ...  \n",
       "40828          NaN       False   False  \n",
       "40829          NaN       False   False  \n",
       "40830          NaN        True   False  \n",
       "40831          NaN       False   False  \n",
       "40832          NaN       False   False  \n",
       "\n",
       "[40817 rows x 9 columns]"
      ]
     },
     "execution_count": 12,
     "metadata": {},
     "output_type": "execute_result"
    }
   ],
   "source": [
    "df"
   ]
  },
  {
   "cell_type": "code",
   "execution_count": 13,
   "id": "1ca4836a-6efe-414e-a338-d6b0650da345",
   "metadata": {},
   "outputs": [
    {
     "data": {
      "text/plain": [
       "name                    0\n",
       "release_date         3164\n",
       "developer             327\n",
       "achievements        28623\n",
       "original_price       5296\n",
       "percent_positive    23454\n",
       "num_reviews         23454\n",
       "multiplayer           508\n",
       "mature                  0\n",
       "dtype: int64"
      ]
     },
     "execution_count": 13,
     "metadata": {},
     "output_type": "execute_result"
    }
   ],
   "source": [
    "df.isnull().sum()"
   ]
  },
  {
   "cell_type": "code",
   "execution_count": 14,
   "id": "efd6d2a4-214c-4c44-b36b-36503e0d59fa",
   "metadata": {},
   "outputs": [
    {
     "name": "stderr",
     "output_type": "stream",
     "text": [
      "C:\\Users\\Luis Andres\\AppData\\Local\\Temp\\ipykernel_6420\\3805907960.py:2: SettingWithCopyWarning: \n",
      "A value is trying to be set on a copy of a slice from a DataFrame\n",
      "\n",
      "See the caveats in the documentation: https://pandas.pydata.org/pandas-docs/stable/user_guide/indexing.html#returning-a-view-versus-a-copy\n",
      "  df['developer'].fillna(\"Other\", inplace=True)\n"
     ]
    }
   ],
   "source": [
    "# 2 developer, nulls = Other\n",
    "df['developer'].fillna(\"Other\", inplace=True)"
   ]
  },
  {
   "cell_type": "code",
   "execution_count": 15,
   "id": "a8b4ca2c-4fd6-4f2a-bbfe-9e5e61ef7408",
   "metadata": {},
   "outputs": [
    {
     "name": "stderr",
     "output_type": "stream",
     "text": [
      "C:\\Users\\Luis Andres\\AppData\\Local\\Temp\\ipykernel_6420\\594282162.py:2: SettingWithCopyWarning: \n",
      "A value is trying to be set on a copy of a slice from a DataFrame\n",
      "\n",
      "See the caveats in the documentation: https://pandas.pydata.org/pandas-docs/stable/user_guide/indexing.html#returning-a-view-versus-a-copy\n",
      "  df['achievements'].fillna(0, inplace=True)\n"
     ]
    }
   ],
   "source": [
    "# 3 achievements, fill with 0\n",
    "df['achievements'].fillna(0, inplace=True)"
   ]
  },
  {
   "cell_type": "code",
   "execution_count": 16,
   "id": "bd767ff5-b6fa-4444-8347-0d3f30a8f29b",
   "metadata": {},
   "outputs": [
    {
     "name": "stderr",
     "output_type": "stream",
     "text": [
      "C:\\Users\\Luis Andres\\AppData\\Local\\Temp\\ipykernel_6420\\2728441601.py:2: SettingWithCopyWarning: \n",
      "A value is trying to be set on a copy of a slice from a DataFrame.\n",
      "Try using .loc[row_indexer,col_indexer] = value instead\n",
      "\n",
      "See the caveats in the documentation: https://pandas.pydata.org/pandas-docs/stable/user_guide/indexing.html#returning-a-view-versus-a-copy\n",
      "  df[['delete','price']] = (df['original_price']\n",
      "C:\\Users\\Luis Andres\\AppData\\Local\\Temp\\ipykernel_6420\\2728441601.py:2: SettingWithCopyWarning: \n",
      "A value is trying to be set on a copy of a slice from a DataFrame.\n",
      "Try using .loc[row_indexer,col_indexer] = value instead\n",
      "\n",
      "See the caveats in the documentation: https://pandas.pydata.org/pandas-docs/stable/user_guide/indexing.html#returning-a-view-versus-a-copy\n",
      "  df[['delete','price']] = (df['original_price']\n"
     ]
    },
    {
     "data": {
      "text/html": [
       "<div>\n",
       "<style scoped>\n",
       "    .dataframe tbody tr th:only-of-type {\n",
       "        vertical-align: middle;\n",
       "    }\n",
       "\n",
       "    .dataframe tbody tr th {\n",
       "        vertical-align: top;\n",
       "    }\n",
       "\n",
       "    .dataframe thead th {\n",
       "        text-align: right;\n",
       "    }\n",
       "</style>\n",
       "<table border=\"1\" class=\"dataframe\">\n",
       "  <thead>\n",
       "    <tr style=\"text-align: right;\">\n",
       "      <th></th>\n",
       "      <th>name</th>\n",
       "      <th>release_date</th>\n",
       "      <th>developer</th>\n",
       "      <th>achievements</th>\n",
       "      <th>original_price</th>\n",
       "      <th>percent_positive</th>\n",
       "      <th>num_reviews</th>\n",
       "      <th>multiplayer</th>\n",
       "      <th>mature</th>\n",
       "      <th>delete</th>\n",
       "      <th>price</th>\n",
       "    </tr>\n",
       "  </thead>\n",
       "  <tbody>\n",
       "    <tr>\n",
       "      <th>0</th>\n",
       "      <td>DOOM</td>\n",
       "      <td>May 12, 2016</td>\n",
       "      <td>id Software</td>\n",
       "      <td>54.0</td>\n",
       "      <td>$19.99</td>\n",
       "      <td>92%</td>\n",
       "      <td>42550.0</td>\n",
       "      <td>True</td>\n",
       "      <td>False</td>\n",
       "      <td></td>\n",
       "      <td>19.99</td>\n",
       "    </tr>\n",
       "    <tr>\n",
       "      <th>1</th>\n",
       "      <td>PLAYERUNKNOWN'S BATTLEGROUNDS</td>\n",
       "      <td>Dec 21, 2017</td>\n",
       "      <td>PUBG Corporation</td>\n",
       "      <td>37.0</td>\n",
       "      <td>$29.99</td>\n",
       "      <td>49%</td>\n",
       "      <td>836608.0</td>\n",
       "      <td>True</td>\n",
       "      <td>True</td>\n",
       "      <td></td>\n",
       "      <td>29.99</td>\n",
       "    </tr>\n",
       "    <tr>\n",
       "      <th>2</th>\n",
       "      <td>BATTLETECH</td>\n",
       "      <td>Apr 24, 2018</td>\n",
       "      <td>Harebrained Schemes</td>\n",
       "      <td>128.0</td>\n",
       "      <td>$39.99</td>\n",
       "      <td>71%</td>\n",
       "      <td>7030.0</td>\n",
       "      <td>True</td>\n",
       "      <td>False</td>\n",
       "      <td></td>\n",
       "      <td>39.99</td>\n",
       "    </tr>\n",
       "    <tr>\n",
       "      <th>3</th>\n",
       "      <td>DayZ</td>\n",
       "      <td>Dec 13, 2018</td>\n",
       "      <td>Bohemia Interactive</td>\n",
       "      <td>0.0</td>\n",
       "      <td>$44.99</td>\n",
       "      <td>61%</td>\n",
       "      <td>167115.0</td>\n",
       "      <td>True</td>\n",
       "      <td>False</td>\n",
       "      <td></td>\n",
       "      <td>44.99</td>\n",
       "    </tr>\n",
       "    <tr>\n",
       "      <th>4</th>\n",
       "      <td>EVE Online</td>\n",
       "      <td>May 6, 2003</td>\n",
       "      <td>CCP</td>\n",
       "      <td>0.0</td>\n",
       "      <td>Free</td>\n",
       "      <td>74%</td>\n",
       "      <td>11481.0</td>\n",
       "      <td>True</td>\n",
       "      <td>False</td>\n",
       "      <td>Free</td>\n",
       "      <td>None</td>\n",
       "    </tr>\n",
       "    <tr>\n",
       "      <th>...</th>\n",
       "      <td>...</td>\n",
       "      <td>...</td>\n",
       "      <td>...</td>\n",
       "      <td>...</td>\n",
       "      <td>...</td>\n",
       "      <td>...</td>\n",
       "      <td>...</td>\n",
       "      <td>...</td>\n",
       "      <td>...</td>\n",
       "      <td>...</td>\n",
       "      <td>...</td>\n",
       "    </tr>\n",
       "    <tr>\n",
       "      <th>40828</th>\n",
       "      <td>Rocksmith® 2014 Edition – Remastered – Sabaton...</td>\n",
       "      <td>Feb 12, 2019</td>\n",
       "      <td>Ubisoft - San Francisco</td>\n",
       "      <td>0.0</td>\n",
       "      <td>$2.99</td>\n",
       "      <td>NaN</td>\n",
       "      <td>NaN</td>\n",
       "      <td>False</td>\n",
       "      <td>False</td>\n",
       "      <td></td>\n",
       "      <td>2.99</td>\n",
       "    </tr>\n",
       "    <tr>\n",
       "      <th>40829</th>\n",
       "      <td>Rocksmith® 2014 Edition – Remastered – Stone T...</td>\n",
       "      <td>Feb 5, 2019</td>\n",
       "      <td>Ubisoft - San Francisco</td>\n",
       "      <td>0.0</td>\n",
       "      <td>$2.99</td>\n",
       "      <td>NaN</td>\n",
       "      <td>NaN</td>\n",
       "      <td>False</td>\n",
       "      <td>False</td>\n",
       "      <td></td>\n",
       "      <td>2.99</td>\n",
       "    </tr>\n",
       "    <tr>\n",
       "      <th>40830</th>\n",
       "      <td>Fantasy Grounds - Quests of Doom 4: A Midnight...</td>\n",
       "      <td>Jul 31, 2018</td>\n",
       "      <td>SmiteWorks USA, LLC</td>\n",
       "      <td>0.0</td>\n",
       "      <td>$7.99</td>\n",
       "      <td>NaN</td>\n",
       "      <td>NaN</td>\n",
       "      <td>True</td>\n",
       "      <td>False</td>\n",
       "      <td></td>\n",
       "      <td>7.99</td>\n",
       "    </tr>\n",
       "    <tr>\n",
       "      <th>40831</th>\n",
       "      <td>Mega Man X5 Sound Collection</td>\n",
       "      <td>Jul 24, 2018</td>\n",
       "      <td>CAPCOM CO., LTD</td>\n",
       "      <td>0.0</td>\n",
       "      <td>$9.99</td>\n",
       "      <td>NaN</td>\n",
       "      <td>NaN</td>\n",
       "      <td>False</td>\n",
       "      <td>False</td>\n",
       "      <td></td>\n",
       "      <td>9.99</td>\n",
       "    </tr>\n",
       "    <tr>\n",
       "      <th>40832</th>\n",
       "      <td>Stories In Stone</td>\n",
       "      <td>Aug 8, 2018</td>\n",
       "      <td>16 Bit Psych,Kyle B</td>\n",
       "      <td>0.0</td>\n",
       "      <td>$4.99</td>\n",
       "      <td>NaN</td>\n",
       "      <td>NaN</td>\n",
       "      <td>False</td>\n",
       "      <td>False</td>\n",
       "      <td></td>\n",
       "      <td>4.99</td>\n",
       "    </tr>\n",
       "  </tbody>\n",
       "</table>\n",
       "<p>40817 rows × 11 columns</p>\n",
       "</div>"
      ],
      "text/plain": [
       "                                                    name  release_date  \\\n",
       "0                                                   DOOM  May 12, 2016   \n",
       "1                          PLAYERUNKNOWN'S BATTLEGROUNDS  Dec 21, 2017   \n",
       "2                                             BATTLETECH  Apr 24, 2018   \n",
       "3                                                   DayZ  Dec 13, 2018   \n",
       "4                                             EVE Online   May 6, 2003   \n",
       "...                                                  ...           ...   \n",
       "40828  Rocksmith® 2014 Edition – Remastered – Sabaton...  Feb 12, 2019   \n",
       "40829  Rocksmith® 2014 Edition – Remastered – Stone T...   Feb 5, 2019   \n",
       "40830  Fantasy Grounds - Quests of Doom 4: A Midnight...  Jul 31, 2018   \n",
       "40831                       Mega Man X5 Sound Collection  Jul 24, 2018   \n",
       "40832                                   Stories In Stone   Aug 8, 2018   \n",
       "\n",
       "                     developer  achievements original_price percent_positive  \\\n",
       "0                  id Software          54.0         $19.99              92%   \n",
       "1             PUBG Corporation          37.0         $29.99              49%   \n",
       "2          Harebrained Schemes         128.0         $39.99              71%   \n",
       "3          Bohemia Interactive           0.0         $44.99              61%   \n",
       "4                          CCP           0.0           Free              74%   \n",
       "...                        ...           ...            ...              ...   \n",
       "40828  Ubisoft - San Francisco           0.0          $2.99              NaN   \n",
       "40829  Ubisoft - San Francisco           0.0          $2.99              NaN   \n",
       "40830      SmiteWorks USA, LLC           0.0          $7.99              NaN   \n",
       "40831          CAPCOM CO., LTD           0.0          $9.99              NaN   \n",
       "40832      16 Bit Psych,Kyle B           0.0          $4.99              NaN   \n",
       "\n",
       "       num_reviews multiplayer  mature delete  price  \n",
       "0          42550.0        True   False         19.99  \n",
       "1         836608.0        True    True         29.99  \n",
       "2           7030.0        True   False         39.99  \n",
       "3         167115.0        True   False         44.99  \n",
       "4          11481.0        True   False   Free   None  \n",
       "...            ...         ...     ...    ...    ...  \n",
       "40828          NaN       False   False          2.99  \n",
       "40829          NaN       False   False          2.99  \n",
       "40830          NaN        True   False          7.99  \n",
       "40831          NaN       False   False          9.99  \n",
       "40832          NaN       False   False          4.99  \n",
       "\n",
       "[40817 rows x 11 columns]"
      ]
     },
     "execution_count": 16,
     "metadata": {},
     "output_type": "execute_result"
    }
   ],
   "source": [
    "# 4 original_price, cleaning\n",
    "df[['delete','price']] = (df['original_price']\n",
    "                          .str\n",
    "                          .split('$', expand=True)) # expand gives a df instead of series\n",
    "df"
   ]
  },
  {
   "cell_type": "code",
   "execution_count": 17,
   "id": "a476c349-b8b4-4d35-bf92-0d8a9cb02fa8",
   "metadata": {},
   "outputs": [
    {
     "name": "stderr",
     "output_type": "stream",
     "text": [
      "C:\\Users\\Luis Andres\\AppData\\Local\\Temp\\ipykernel_6420\\1148561075.py:1: SettingWithCopyWarning: \n",
      "A value is trying to be set on a copy of a slice from a DataFrame\n",
      "\n",
      "See the caveats in the documentation: https://pandas.pydata.org/pandas-docs/stable/user_guide/indexing.html#returning-a-view-versus-a-copy\n",
      "  df['price'].fillna(0, inplace=True)\n",
      "C:\\Users\\Luis Andres\\AppData\\Local\\Temp\\ipykernel_6420\\1148561075.py:2: SettingWithCopyWarning: \n",
      "A value is trying to be set on a copy of a slice from a DataFrame.\n",
      "Try using .loc[row_indexer,col_indexer] = value instead\n",
      "\n",
      "See the caveats in the documentation: https://pandas.pydata.org/pandas-docs/stable/user_guide/indexing.html#returning-a-view-versus-a-copy\n",
      "  df['price'] = df['price'].astype(float)\n"
     ]
    }
   ],
   "source": [
    "df['price'].fillna(0, inplace=True)\n",
    "df['price'] = df['price'].astype(float)"
   ]
  },
  {
   "cell_type": "code",
   "execution_count": 18,
   "id": "4d4b4f53-2fa0-43a4-9abf-bf68fa656b62",
   "metadata": {},
   "outputs": [
    {
     "data": {
      "text/plain": [
       "array(['', 'Free', nan, 'Free to Play', '1.020', 'Free To Play',\n",
       "       'Demo Middle-earth™: Shadow of War™', 'Play for Free!',\n",
       "       'Shadow of the Tomb Raider Free Trial',\n",
       "       'FINAL FANTASY XV WINDOWS EDITION PLAYABLE DEMO', 'UNO', 'Demo',\n",
       "       'CrossCode Demo', 'EmergeNYC Demo', 'SpeedRunners Party Mode',\n",
       "       'Learn to Play Edition', 'Soundpad Demo',\n",
       "       'Try the complete game for one hour for free:',\n",
       "       'LudoNarraCon demo',\n",
       "       'Note: Your saved progress will transfer to the full game, if purchased.'],\n",
       "      dtype=object)"
      ]
     },
     "execution_count": 18,
     "metadata": {},
     "output_type": "execute_result"
    }
   ],
   "source": [
    "# We can assume they are all demos therefore they are free (0$)\n",
    "df['delete'].unique()[:20]"
   ]
  },
  {
   "cell_type": "code",
   "execution_count": 19,
   "id": "29aad66d-5b0a-4f3b-8bce-be7c91869504",
   "metadata": {},
   "outputs": [
    {
     "name": "stderr",
     "output_type": "stream",
     "text": [
      "C:\\Users\\Luis Andres\\AppData\\Local\\Temp\\ipykernel_6420\\2230876169.py:1: SettingWithCopyWarning: \n",
      "A value is trying to be set on a copy of a slice from a DataFrame\n",
      "\n",
      "See the caveats in the documentation: https://pandas.pydata.org/pandas-docs/stable/user_guide/indexing.html#returning-a-view-versus-a-copy\n",
      "  df.drop(['original_price','delete'], axis=1, inplace=True)\n"
     ]
    },
    {
     "data": {
      "text/html": [
       "<div>\n",
       "<style scoped>\n",
       "    .dataframe tbody tr th:only-of-type {\n",
       "        vertical-align: middle;\n",
       "    }\n",
       "\n",
       "    .dataframe tbody tr th {\n",
       "        vertical-align: top;\n",
       "    }\n",
       "\n",
       "    .dataframe thead th {\n",
       "        text-align: right;\n",
       "    }\n",
       "</style>\n",
       "<table border=\"1\" class=\"dataframe\">\n",
       "  <thead>\n",
       "    <tr style=\"text-align: right;\">\n",
       "      <th></th>\n",
       "      <th>name</th>\n",
       "      <th>release_date</th>\n",
       "      <th>developer</th>\n",
       "      <th>achievements</th>\n",
       "      <th>percent_positive</th>\n",
       "      <th>num_reviews</th>\n",
       "      <th>multiplayer</th>\n",
       "      <th>mature</th>\n",
       "      <th>price</th>\n",
       "    </tr>\n",
       "  </thead>\n",
       "  <tbody>\n",
       "    <tr>\n",
       "      <th>0</th>\n",
       "      <td>DOOM</td>\n",
       "      <td>May 12, 2016</td>\n",
       "      <td>id Software</td>\n",
       "      <td>54.0</td>\n",
       "      <td>92%</td>\n",
       "      <td>42550.0</td>\n",
       "      <td>True</td>\n",
       "      <td>False</td>\n",
       "      <td>19.99</td>\n",
       "    </tr>\n",
       "    <tr>\n",
       "      <th>1</th>\n",
       "      <td>PLAYERUNKNOWN'S BATTLEGROUNDS</td>\n",
       "      <td>Dec 21, 2017</td>\n",
       "      <td>PUBG Corporation</td>\n",
       "      <td>37.0</td>\n",
       "      <td>49%</td>\n",
       "      <td>836608.0</td>\n",
       "      <td>True</td>\n",
       "      <td>True</td>\n",
       "      <td>29.99</td>\n",
       "    </tr>\n",
       "    <tr>\n",
       "      <th>2</th>\n",
       "      <td>BATTLETECH</td>\n",
       "      <td>Apr 24, 2018</td>\n",
       "      <td>Harebrained Schemes</td>\n",
       "      <td>128.0</td>\n",
       "      <td>71%</td>\n",
       "      <td>7030.0</td>\n",
       "      <td>True</td>\n",
       "      <td>False</td>\n",
       "      <td>39.99</td>\n",
       "    </tr>\n",
       "    <tr>\n",
       "      <th>3</th>\n",
       "      <td>DayZ</td>\n",
       "      <td>Dec 13, 2018</td>\n",
       "      <td>Bohemia Interactive</td>\n",
       "      <td>0.0</td>\n",
       "      <td>61%</td>\n",
       "      <td>167115.0</td>\n",
       "      <td>True</td>\n",
       "      <td>False</td>\n",
       "      <td>44.99</td>\n",
       "    </tr>\n",
       "    <tr>\n",
       "      <th>4</th>\n",
       "      <td>EVE Online</td>\n",
       "      <td>May 6, 2003</td>\n",
       "      <td>CCP</td>\n",
       "      <td>0.0</td>\n",
       "      <td>74%</td>\n",
       "      <td>11481.0</td>\n",
       "      <td>True</td>\n",
       "      <td>False</td>\n",
       "      <td>0.00</td>\n",
       "    </tr>\n",
       "    <tr>\n",
       "      <th>...</th>\n",
       "      <td>...</td>\n",
       "      <td>...</td>\n",
       "      <td>...</td>\n",
       "      <td>...</td>\n",
       "      <td>...</td>\n",
       "      <td>...</td>\n",
       "      <td>...</td>\n",
       "      <td>...</td>\n",
       "      <td>...</td>\n",
       "    </tr>\n",
       "    <tr>\n",
       "      <th>40828</th>\n",
       "      <td>Rocksmith® 2014 Edition – Remastered – Sabaton...</td>\n",
       "      <td>Feb 12, 2019</td>\n",
       "      <td>Ubisoft - San Francisco</td>\n",
       "      <td>0.0</td>\n",
       "      <td>NaN</td>\n",
       "      <td>NaN</td>\n",
       "      <td>False</td>\n",
       "      <td>False</td>\n",
       "      <td>2.99</td>\n",
       "    </tr>\n",
       "    <tr>\n",
       "      <th>40829</th>\n",
       "      <td>Rocksmith® 2014 Edition – Remastered – Stone T...</td>\n",
       "      <td>Feb 5, 2019</td>\n",
       "      <td>Ubisoft - San Francisco</td>\n",
       "      <td>0.0</td>\n",
       "      <td>NaN</td>\n",
       "      <td>NaN</td>\n",
       "      <td>False</td>\n",
       "      <td>False</td>\n",
       "      <td>2.99</td>\n",
       "    </tr>\n",
       "    <tr>\n",
       "      <th>40830</th>\n",
       "      <td>Fantasy Grounds - Quests of Doom 4: A Midnight...</td>\n",
       "      <td>Jul 31, 2018</td>\n",
       "      <td>SmiteWorks USA, LLC</td>\n",
       "      <td>0.0</td>\n",
       "      <td>NaN</td>\n",
       "      <td>NaN</td>\n",
       "      <td>True</td>\n",
       "      <td>False</td>\n",
       "      <td>7.99</td>\n",
       "    </tr>\n",
       "    <tr>\n",
       "      <th>40831</th>\n",
       "      <td>Mega Man X5 Sound Collection</td>\n",
       "      <td>Jul 24, 2018</td>\n",
       "      <td>CAPCOM CO., LTD</td>\n",
       "      <td>0.0</td>\n",
       "      <td>NaN</td>\n",
       "      <td>NaN</td>\n",
       "      <td>False</td>\n",
       "      <td>False</td>\n",
       "      <td>9.99</td>\n",
       "    </tr>\n",
       "    <tr>\n",
       "      <th>40832</th>\n",
       "      <td>Stories In Stone</td>\n",
       "      <td>Aug 8, 2018</td>\n",
       "      <td>16 Bit Psych,Kyle B</td>\n",
       "      <td>0.0</td>\n",
       "      <td>NaN</td>\n",
       "      <td>NaN</td>\n",
       "      <td>False</td>\n",
       "      <td>False</td>\n",
       "      <td>4.99</td>\n",
       "    </tr>\n",
       "  </tbody>\n",
       "</table>\n",
       "<p>40817 rows × 9 columns</p>\n",
       "</div>"
      ],
      "text/plain": [
       "                                                    name  release_date  \\\n",
       "0                                                   DOOM  May 12, 2016   \n",
       "1                          PLAYERUNKNOWN'S BATTLEGROUNDS  Dec 21, 2017   \n",
       "2                                             BATTLETECH  Apr 24, 2018   \n",
       "3                                                   DayZ  Dec 13, 2018   \n",
       "4                                             EVE Online   May 6, 2003   \n",
       "...                                                  ...           ...   \n",
       "40828  Rocksmith® 2014 Edition – Remastered – Sabaton...  Feb 12, 2019   \n",
       "40829  Rocksmith® 2014 Edition – Remastered – Stone T...   Feb 5, 2019   \n",
       "40830  Fantasy Grounds - Quests of Doom 4: A Midnight...  Jul 31, 2018   \n",
       "40831                       Mega Man X5 Sound Collection  Jul 24, 2018   \n",
       "40832                                   Stories In Stone   Aug 8, 2018   \n",
       "\n",
       "                     developer  achievements percent_positive  num_reviews  \\\n",
       "0                  id Software          54.0              92%      42550.0   \n",
       "1             PUBG Corporation          37.0              49%     836608.0   \n",
       "2          Harebrained Schemes         128.0              71%       7030.0   \n",
       "3          Bohemia Interactive           0.0              61%     167115.0   \n",
       "4                          CCP           0.0              74%      11481.0   \n",
       "...                        ...           ...              ...          ...   \n",
       "40828  Ubisoft - San Francisco           0.0              NaN          NaN   \n",
       "40829  Ubisoft - San Francisco           0.0              NaN          NaN   \n",
       "40830      SmiteWorks USA, LLC           0.0              NaN          NaN   \n",
       "40831          CAPCOM CO., LTD           0.0              NaN          NaN   \n",
       "40832      16 Bit Psych,Kyle B           0.0              NaN          NaN   \n",
       "\n",
       "      multiplayer  mature  price  \n",
       "0            True   False  19.99  \n",
       "1            True    True  29.99  \n",
       "2            True   False  39.99  \n",
       "3            True   False  44.99  \n",
       "4            True   False   0.00  \n",
       "...           ...     ...    ...  \n",
       "40828       False   False   2.99  \n",
       "40829       False   False   2.99  \n",
       "40830        True   False   7.99  \n",
       "40831       False   False   9.99  \n",
       "40832       False   False   4.99  \n",
       "\n",
       "[40817 rows x 9 columns]"
      ]
     },
     "execution_count": 19,
     "metadata": {},
     "output_type": "execute_result"
    }
   ],
   "source": [
    "df.drop(['original_price','delete'], axis=1, inplace=True)\n",
    "df"
   ]
  },
  {
   "cell_type": "code",
   "execution_count": 20,
   "id": "282f23e2-1876-4ae6-8151-4414a4b0b375",
   "metadata": {},
   "outputs": [
    {
     "name": "stderr",
     "output_type": "stream",
     "text": [
      "C:\\Users\\Luis Andres\\AppData\\Local\\Temp\\ipykernel_6420\\2249217372.py:2: SettingWithCopyWarning: \n",
      "A value is trying to be set on a copy of a slice from a DataFrame\n",
      "\n",
      "See the caveats in the documentation: https://pandas.pydata.org/pandas-docs/stable/user_guide/indexing.html#returning-a-view-versus-a-copy\n",
      "  df['num_reviews'].fillna(0, inplace=True)\n"
     ]
    }
   ],
   "source": [
    "# 5 num_reviews\n",
    "df['num_reviews'].fillna(0, inplace=True)"
   ]
  },
  {
   "cell_type": "code",
   "execution_count": 21,
   "id": "4205f722-9249-4431-8a85-d24911785b66",
   "metadata": {},
   "outputs": [
    {
     "name": "stderr",
     "output_type": "stream",
     "text": [
      "C:\\Users\\Luis Andres\\AppData\\Local\\Temp\\ipykernel_6420\\3092144575.py:2: SettingWithCopyWarning: \n",
      "A value is trying to be set on a copy of a slice from a DataFrame\n",
      "\n",
      "See the caveats in the documentation: https://pandas.pydata.org/pandas-docs/stable/user_guide/indexing.html#returning-a-view-versus-a-copy\n",
      "  df['multiplayer'].fillna(False, inplace=True)\n"
     ]
    }
   ],
   "source": [
    "# 6 multiplayer\n",
    "df['multiplayer'].fillna(False, inplace=True)"
   ]
  },
  {
   "cell_type": "code",
   "execution_count": 22,
   "id": "01ecdd38-6911-4b14-802e-7d6a1987c3ab",
   "metadata": {},
   "outputs": [
    {
     "name": "stderr",
     "output_type": "stream",
     "text": [
      "C:\\Users\\Luis Andres\\AppData\\Local\\Temp\\ipykernel_6420\\895990015.py:2: SettingWithCopyWarning: \n",
      "A value is trying to be set on a copy of a slice from a DataFrame.\n",
      "Try using .loc[row_indexer,col_indexer] = value instead\n",
      "\n",
      "See the caveats in the documentation: https://pandas.pydata.org/pandas-docs/stable/user_guide/indexing.html#returning-a-view-versus-a-copy\n",
      "  df[['percent_pos','delete']] = (df['percent_positive']\n",
      "C:\\Users\\Luis Andres\\AppData\\Local\\Temp\\ipykernel_6420\\895990015.py:2: SettingWithCopyWarning: \n",
      "A value is trying to be set on a copy of a slice from a DataFrame.\n",
      "Try using .loc[row_indexer,col_indexer] = value instead\n",
      "\n",
      "See the caveats in the documentation: https://pandas.pydata.org/pandas-docs/stable/user_guide/indexing.html#returning-a-view-versus-a-copy\n",
      "  df[['percent_pos','delete']] = (df['percent_positive']\n"
     ]
    },
    {
     "data": {
      "text/html": [
       "<div>\n",
       "<style scoped>\n",
       "    .dataframe tbody tr th:only-of-type {\n",
       "        vertical-align: middle;\n",
       "    }\n",
       "\n",
       "    .dataframe tbody tr th {\n",
       "        vertical-align: top;\n",
       "    }\n",
       "\n",
       "    .dataframe thead th {\n",
       "        text-align: right;\n",
       "    }\n",
       "</style>\n",
       "<table border=\"1\" class=\"dataframe\">\n",
       "  <thead>\n",
       "    <tr style=\"text-align: right;\">\n",
       "      <th></th>\n",
       "      <th>name</th>\n",
       "      <th>release_date</th>\n",
       "      <th>developer</th>\n",
       "      <th>achievements</th>\n",
       "      <th>percent_positive</th>\n",
       "      <th>num_reviews</th>\n",
       "      <th>multiplayer</th>\n",
       "      <th>mature</th>\n",
       "      <th>price</th>\n",
       "      <th>percent_pos</th>\n",
       "      <th>delete</th>\n",
       "    </tr>\n",
       "  </thead>\n",
       "  <tbody>\n",
       "    <tr>\n",
       "      <th>0</th>\n",
       "      <td>DOOM</td>\n",
       "      <td>May 12, 2016</td>\n",
       "      <td>id Software</td>\n",
       "      <td>54.0</td>\n",
       "      <td>92%</td>\n",
       "      <td>42550.0</td>\n",
       "      <td>True</td>\n",
       "      <td>False</td>\n",
       "      <td>19.99</td>\n",
       "      <td>92</td>\n",
       "      <td></td>\n",
       "    </tr>\n",
       "    <tr>\n",
       "      <th>1</th>\n",
       "      <td>PLAYERUNKNOWN'S BATTLEGROUNDS</td>\n",
       "      <td>Dec 21, 2017</td>\n",
       "      <td>PUBG Corporation</td>\n",
       "      <td>37.0</td>\n",
       "      <td>49%</td>\n",
       "      <td>836608.0</td>\n",
       "      <td>True</td>\n",
       "      <td>True</td>\n",
       "      <td>29.99</td>\n",
       "      <td>49</td>\n",
       "      <td></td>\n",
       "    </tr>\n",
       "    <tr>\n",
       "      <th>2</th>\n",
       "      <td>BATTLETECH</td>\n",
       "      <td>Apr 24, 2018</td>\n",
       "      <td>Harebrained Schemes</td>\n",
       "      <td>128.0</td>\n",
       "      <td>71%</td>\n",
       "      <td>7030.0</td>\n",
       "      <td>True</td>\n",
       "      <td>False</td>\n",
       "      <td>39.99</td>\n",
       "      <td>71</td>\n",
       "      <td></td>\n",
       "    </tr>\n",
       "    <tr>\n",
       "      <th>3</th>\n",
       "      <td>DayZ</td>\n",
       "      <td>Dec 13, 2018</td>\n",
       "      <td>Bohemia Interactive</td>\n",
       "      <td>0.0</td>\n",
       "      <td>61%</td>\n",
       "      <td>167115.0</td>\n",
       "      <td>True</td>\n",
       "      <td>False</td>\n",
       "      <td>44.99</td>\n",
       "      <td>61</td>\n",
       "      <td></td>\n",
       "    </tr>\n",
       "    <tr>\n",
       "      <th>4</th>\n",
       "      <td>EVE Online</td>\n",
       "      <td>May 6, 2003</td>\n",
       "      <td>CCP</td>\n",
       "      <td>0.0</td>\n",
       "      <td>74%</td>\n",
       "      <td>11481.0</td>\n",
       "      <td>True</td>\n",
       "      <td>False</td>\n",
       "      <td>0.00</td>\n",
       "      <td>74</td>\n",
       "      <td></td>\n",
       "    </tr>\n",
       "    <tr>\n",
       "      <th>...</th>\n",
       "      <td>...</td>\n",
       "      <td>...</td>\n",
       "      <td>...</td>\n",
       "      <td>...</td>\n",
       "      <td>...</td>\n",
       "      <td>...</td>\n",
       "      <td>...</td>\n",
       "      <td>...</td>\n",
       "      <td>...</td>\n",
       "      <td>...</td>\n",
       "      <td>...</td>\n",
       "    </tr>\n",
       "    <tr>\n",
       "      <th>40828</th>\n",
       "      <td>Rocksmith® 2014 Edition – Remastered – Sabaton...</td>\n",
       "      <td>Feb 12, 2019</td>\n",
       "      <td>Ubisoft - San Francisco</td>\n",
       "      <td>0.0</td>\n",
       "      <td>NaN</td>\n",
       "      <td>0.0</td>\n",
       "      <td>False</td>\n",
       "      <td>False</td>\n",
       "      <td>2.99</td>\n",
       "      <td>NaN</td>\n",
       "      <td>NaN</td>\n",
       "    </tr>\n",
       "    <tr>\n",
       "      <th>40829</th>\n",
       "      <td>Rocksmith® 2014 Edition – Remastered – Stone T...</td>\n",
       "      <td>Feb 5, 2019</td>\n",
       "      <td>Ubisoft - San Francisco</td>\n",
       "      <td>0.0</td>\n",
       "      <td>NaN</td>\n",
       "      <td>0.0</td>\n",
       "      <td>False</td>\n",
       "      <td>False</td>\n",
       "      <td>2.99</td>\n",
       "      <td>NaN</td>\n",
       "      <td>NaN</td>\n",
       "    </tr>\n",
       "    <tr>\n",
       "      <th>40830</th>\n",
       "      <td>Fantasy Grounds - Quests of Doom 4: A Midnight...</td>\n",
       "      <td>Jul 31, 2018</td>\n",
       "      <td>SmiteWorks USA, LLC</td>\n",
       "      <td>0.0</td>\n",
       "      <td>NaN</td>\n",
       "      <td>0.0</td>\n",
       "      <td>True</td>\n",
       "      <td>False</td>\n",
       "      <td>7.99</td>\n",
       "      <td>NaN</td>\n",
       "      <td>NaN</td>\n",
       "    </tr>\n",
       "    <tr>\n",
       "      <th>40831</th>\n",
       "      <td>Mega Man X5 Sound Collection</td>\n",
       "      <td>Jul 24, 2018</td>\n",
       "      <td>CAPCOM CO., LTD</td>\n",
       "      <td>0.0</td>\n",
       "      <td>NaN</td>\n",
       "      <td>0.0</td>\n",
       "      <td>False</td>\n",
       "      <td>False</td>\n",
       "      <td>9.99</td>\n",
       "      <td>NaN</td>\n",
       "      <td>NaN</td>\n",
       "    </tr>\n",
       "    <tr>\n",
       "      <th>40832</th>\n",
       "      <td>Stories In Stone</td>\n",
       "      <td>Aug 8, 2018</td>\n",
       "      <td>16 Bit Psych,Kyle B</td>\n",
       "      <td>0.0</td>\n",
       "      <td>NaN</td>\n",
       "      <td>0.0</td>\n",
       "      <td>False</td>\n",
       "      <td>False</td>\n",
       "      <td>4.99</td>\n",
       "      <td>NaN</td>\n",
       "      <td>NaN</td>\n",
       "    </tr>\n",
       "  </tbody>\n",
       "</table>\n",
       "<p>40817 rows × 11 columns</p>\n",
       "</div>"
      ],
      "text/plain": [
       "                                                    name  release_date  \\\n",
       "0                                                   DOOM  May 12, 2016   \n",
       "1                          PLAYERUNKNOWN'S BATTLEGROUNDS  Dec 21, 2017   \n",
       "2                                             BATTLETECH  Apr 24, 2018   \n",
       "3                                                   DayZ  Dec 13, 2018   \n",
       "4                                             EVE Online   May 6, 2003   \n",
       "...                                                  ...           ...   \n",
       "40828  Rocksmith® 2014 Edition – Remastered – Sabaton...  Feb 12, 2019   \n",
       "40829  Rocksmith® 2014 Edition – Remastered – Stone T...   Feb 5, 2019   \n",
       "40830  Fantasy Grounds - Quests of Doom 4: A Midnight...  Jul 31, 2018   \n",
       "40831                       Mega Man X5 Sound Collection  Jul 24, 2018   \n",
       "40832                                   Stories In Stone   Aug 8, 2018   \n",
       "\n",
       "                     developer  achievements percent_positive  num_reviews  \\\n",
       "0                  id Software          54.0              92%      42550.0   \n",
       "1             PUBG Corporation          37.0              49%     836608.0   \n",
       "2          Harebrained Schemes         128.0              71%       7030.0   \n",
       "3          Bohemia Interactive           0.0              61%     167115.0   \n",
       "4                          CCP           0.0              74%      11481.0   \n",
       "...                        ...           ...              ...          ...   \n",
       "40828  Ubisoft - San Francisco           0.0              NaN          0.0   \n",
       "40829  Ubisoft - San Francisco           0.0              NaN          0.0   \n",
       "40830      SmiteWorks USA, LLC           0.0              NaN          0.0   \n",
       "40831          CAPCOM CO., LTD           0.0              NaN          0.0   \n",
       "40832      16 Bit Psych,Kyle B           0.0              NaN          0.0   \n",
       "\n",
       "       multiplayer  mature  price percent_pos delete  \n",
       "0             True   False  19.99          92         \n",
       "1             True    True  29.99          49         \n",
       "2             True   False  39.99          71         \n",
       "3             True   False  44.99          61         \n",
       "4             True   False   0.00          74         \n",
       "...            ...     ...    ...         ...    ...  \n",
       "40828        False   False   2.99         NaN    NaN  \n",
       "40829        False   False   2.99         NaN    NaN  \n",
       "40830         True   False   7.99         NaN    NaN  \n",
       "40831        False   False   9.99         NaN    NaN  \n",
       "40832        False   False   4.99         NaN    NaN  \n",
       "\n",
       "[40817 rows x 11 columns]"
      ]
     },
     "execution_count": 22,
     "metadata": {},
     "output_type": "execute_result"
    }
   ],
   "source": [
    "# 7 percent_positive\n",
    "df[['percent_pos','delete']] = (df['percent_positive']\n",
    "                                .str\n",
    "                                .split('%', expand=True))\n",
    "df"
   ]
  },
  {
   "cell_type": "code",
   "execution_count": 23,
   "id": "d9106ad6-24d0-4391-815b-eb0f2aa92dc0",
   "metadata": {},
   "outputs": [
    {
     "name": "stderr",
     "output_type": "stream",
     "text": [
      "C:\\Users\\Luis Andres\\AppData\\Local\\Temp\\ipykernel_6420\\1849746630.py:1: SettingWithCopyWarning: \n",
      "A value is trying to be set on a copy of a slice from a DataFrame\n",
      "\n",
      "See the caveats in the documentation: https://pandas.pydata.org/pandas-docs/stable/user_guide/indexing.html#returning-a-view-versus-a-copy\n",
      "  df.drop(['delete','percent_positive'], axis=1, inplace=True)\n"
     ]
    }
   ],
   "source": [
    "df.drop(['delete','percent_positive'], axis=1, inplace=True)"
   ]
  },
  {
   "cell_type": "code",
   "execution_count": 24,
   "id": "15a3668c-1aa5-4adc-851b-785f2de0ad64",
   "metadata": {},
   "outputs": [
    {
     "name": "stderr",
     "output_type": "stream",
     "text": [
      "C:\\Users\\Luis Andres\\AppData\\Local\\Temp\\ipykernel_6420\\1178037006.py:1: SettingWithCopyWarning: \n",
      "A value is trying to be set on a copy of a slice from a DataFrame\n",
      "\n",
      "See the caveats in the documentation: https://pandas.pydata.org/pandas-docs/stable/user_guide/indexing.html#returning-a-view-versus-a-copy\n",
      "  df['percent_pos'].fillna(0, inplace = True)\n",
      "C:\\Users\\Luis Andres\\AppData\\Local\\Temp\\ipykernel_6420\\1178037006.py:2: SettingWithCopyWarning: \n",
      "A value is trying to be set on a copy of a slice from a DataFrame.\n",
      "Try using .loc[row_indexer,col_indexer] = value instead\n",
      "\n",
      "See the caveats in the documentation: https://pandas.pydata.org/pandas-docs/stable/user_guide/indexing.html#returning-a-view-versus-a-copy\n",
      "  df['percent_pos'] = df['percent_pos'].astype(int)\n"
     ]
    }
   ],
   "source": [
    "df['percent_pos'].fillna(0, inplace = True)\n",
    "df['percent_pos'] = df['percent_pos'].astype(int)"
   ]
  },
  {
   "cell_type": "code",
   "execution_count": 25,
   "id": "8c020cf8-8edf-49c2-8c1d-67c32b23f0ca",
   "metadata": {},
   "outputs": [
    {
     "data": {
      "text/plain": [
       "0        May 12, 2016\n",
       "1        Dec 21, 2017\n",
       "2        Apr 24, 2018\n",
       "3        Dec 13, 2018\n",
       "4         May 6, 2003\n",
       "             ...     \n",
       "40828    Feb 12, 2019\n",
       "40829     Feb 5, 2019\n",
       "40830    Jul 31, 2018\n",
       "40831    Jul 24, 2018\n",
       "40832     Aug 8, 2018\n",
       "Name: release_date, Length: 40817, dtype: object"
      ]
     },
     "execution_count": 25,
     "metadata": {},
     "output_type": "execute_result"
    }
   ],
   "source": [
    "df['release_date']"
   ]
  },
  {
   "cell_type": "code",
   "execution_count": 26,
   "id": "3e18f72a-d37a-4398-af49-0c2007da7602",
   "metadata": {},
   "outputs": [
    {
     "name": "stderr",
     "output_type": "stream",
     "text": [
      "C:\\Users\\Luis Andres\\AppData\\Local\\Temp\\ipykernel_6420\\4215481295.py:2: SettingWithCopyWarning: \n",
      "A value is trying to be set on a copy of a slice from a DataFrame.\n",
      "Try using .loc[row_indexer,col_indexer] = value instead\n",
      "\n",
      "See the caveats in the documentation: https://pandas.pydata.org/pandas-docs/stable/user_guide/indexing.html#returning-a-view-versus-a-copy\n",
      "  df['release_year'] = df['release_date'].str.findall('(?<!\\d)\\d{4}(?!\\d)').str[0]\n",
      "C:\\Users\\Luis Andres\\AppData\\Local\\Temp\\ipykernel_6420\\4215481295.py:3: SettingWithCopyWarning: \n",
      "A value is trying to be set on a copy of a slice from a DataFrame\n",
      "\n",
      "See the caveats in the documentation: https://pandas.pydata.org/pandas-docs/stable/user_guide/indexing.html#returning-a-view-versus-a-copy\n",
      "  df.drop('release_date', axis=1, inplace=True)\n"
     ]
    }
   ],
   "source": [
    "# 8 release_date\n",
    "df['release_year'] = df['release_date'].str.findall('(?<!\\d)\\d{4}(?!\\d)').str[0]\n",
    "df.drop('release_date', axis=1, inplace=True)"
   ]
  },
  {
   "cell_type": "code",
   "execution_count": 27,
   "id": "5c528e77-300f-41f1-a751-5ba2e513aedf",
   "metadata": {},
   "outputs": [
    {
     "data": {
      "text/plain": [
       "array(['2016', '2017', '2018', '2003', nan, '2019', '2015', '2010',\n",
       "       '2008', '2007', '2005', '2012', '2011', '2004', '2014', '2006',\n",
       "       '2013', '1995', '2009', '2020', '1999', '1997', '1998', '2001',\n",
       "       '2002', '1994', '1990', '2000', '1996', '1992', '1983', '1989',\n",
       "       '1987', '1993', '1991', '1988', '1985', '2023', '1984', '1981',\n",
       "       '1986', '2022', '2021', '2025'], dtype=object)"
      ]
     },
     "execution_count": 27,
     "metadata": {},
     "output_type": "execute_result"
    }
   ],
   "source": [
    "df.release_year.unique()"
   ]
  },
  {
   "cell_type": "code",
   "execution_count": 28,
   "id": "a9bb4a75-7137-4c01-8db2-feb5c230be02",
   "metadata": {},
   "outputs": [
    {
     "name": "stderr",
     "output_type": "stream",
     "text": [
      "C:\\Users\\Luis Andres\\AppData\\Local\\Temp\\ipykernel_6420\\2825507333.py:1: SettingWithCopyWarning: \n",
      "A value is trying to be set on a copy of a slice from a DataFrame\n",
      "\n",
      "See the caveats in the documentation: https://pandas.pydata.org/pandas-docs/stable/user_guide/indexing.html#returning-a-view-versus-a-copy\n",
      "  df['release_year'].fillna(method=\"ffill\", inplace = True)\n",
      "C:\\Users\\Luis Andres\\AppData\\Local\\Temp\\ipykernel_6420\\2825507333.py:2: SettingWithCopyWarning: \n",
      "A value is trying to be set on a copy of a slice from a DataFrame.\n",
      "Try using .loc[row_indexer,col_indexer] = value instead\n",
      "\n",
      "See the caveats in the documentation: https://pandas.pydata.org/pandas-docs/stable/user_guide/indexing.html#returning-a-view-versus-a-copy\n",
      "  df['release_year'] = df['release_year'].astype(int)\n"
     ]
    }
   ],
   "source": [
    "df['release_year'].fillna(method=\"ffill\", inplace = True)\n",
    "df['release_year'] = df['release_year'].astype(int)"
   ]
  },
  {
   "cell_type": "code",
   "execution_count": 29,
   "id": "c92708ef",
   "metadata": {},
   "outputs": [
    {
     "data": {
      "text/plain": [
       "<AxesSubplot:xlabel='release_year', ylabel='Count'>"
      ]
     },
     "execution_count": 29,
     "metadata": {},
     "output_type": "execute_result"
    },
    {
     "data": {
      "image/png": "[encoded data removed]",
      "text/plain": [
       "<Figure size 576x288 with 1 Axes>"
      ]
     },
     "metadata": {},
     "output_type": "display_data"
    }
   ],
   "source": [
    "sns.histplot(df['release_year'])"
   ]
  },
  {
   "cell_type": "code",
   "execution_count": 30,
   "id": "d5b4e875-f9c5-4e40-b59f-55c19dcb541d",
   "metadata": {},
   "outputs": [
    {
     "name": "stdout",
     "output_type": "stream",
     "text": [
      "<class 'pandas.core.frame.DataFrame'>\n",
      "Int64Index: 40817 entries, 0 to 40832\n",
      "Data columns (total 9 columns):\n",
      " #   Column        Non-Null Count  Dtype  \n",
      "---  ------        --------------  -----  \n",
      " 0   name          40817 non-null  object \n",
      " 1   developer     40817 non-null  object \n",
      " 2   achievements  40817 non-null  float64\n",
      " 3   num_reviews   40817 non-null  float64\n",
      " 4   multiplayer   40817 non-null  bool   \n",
      " 5   mature        40817 non-null  bool   \n",
      " 6   price         40817 non-null  float64\n",
      " 7   percent_pos   40817 non-null  int32  \n",
      " 8   release_year  40817 non-null  int32  \n",
      "dtypes: bool(2), float64(3), int32(2), object(2)\n",
      "memory usage: 2.3+ MB\n"
     ]
    }
   ],
   "source": [
    "df.info()"
   ]
  },
  {
   "cell_type": "code",
   "execution_count": 31,
   "id": "3570733f",
   "metadata": {},
   "outputs": [
    {
     "data": {
      "text/html": [
       "<div>\n",
       "<style scoped>\n",
       "    .dataframe tbody tr th:only-of-type {\n",
       "        vertical-align: middle;\n",
       "    }\n",
       "\n",
       "    .dataframe tbody tr th {\n",
       "        vertical-align: top;\n",
       "    }\n",
       "\n",
       "    .dataframe thead th {\n",
       "        text-align: right;\n",
       "    }\n",
       "</style>\n",
       "<table border=\"1\" class=\"dataframe\">\n",
       "  <thead>\n",
       "    <tr style=\"text-align: right;\">\n",
       "      <th></th>\n",
       "      <th>name</th>\n",
       "      <th>developer</th>\n",
       "      <th>achievements</th>\n",
       "      <th>num_reviews</th>\n",
       "      <th>multiplayer</th>\n",
       "      <th>mature</th>\n",
       "      <th>price</th>\n",
       "      <th>percent_pos</th>\n",
       "      <th>release_year</th>\n",
       "    </tr>\n",
       "  </thead>\n",
       "  <tbody>\n",
       "    <tr>\n",
       "      <th>0</th>\n",
       "      <td>DOOM</td>\n",
       "      <td>id Software</td>\n",
       "      <td>54.0</td>\n",
       "      <td>42550.0</td>\n",
       "      <td>True</td>\n",
       "      <td>False</td>\n",
       "      <td>19.99</td>\n",
       "      <td>92</td>\n",
       "      <td>2016</td>\n",
       "    </tr>\n",
       "    <tr>\n",
       "      <th>1</th>\n",
       "      <td>PLAYERUNKNOWN'S BATTLEGROUNDS</td>\n",
       "      <td>PUBG Corporation</td>\n",
       "      <td>37.0</td>\n",
       "      <td>836608.0</td>\n",
       "      <td>True</td>\n",
       "      <td>True</td>\n",
       "      <td>29.99</td>\n",
       "      <td>49</td>\n",
       "      <td>2017</td>\n",
       "    </tr>\n",
       "    <tr>\n",
       "      <th>2</th>\n",
       "      <td>BATTLETECH</td>\n",
       "      <td>Harebrained Schemes</td>\n",
       "      <td>128.0</td>\n",
       "      <td>7030.0</td>\n",
       "      <td>True</td>\n",
       "      <td>False</td>\n",
       "      <td>39.99</td>\n",
       "      <td>71</td>\n",
       "      <td>2018</td>\n",
       "    </tr>\n",
       "    <tr>\n",
       "      <th>3</th>\n",
       "      <td>DayZ</td>\n",
       "      <td>Bohemia Interactive</td>\n",
       "      <td>0.0</td>\n",
       "      <td>167115.0</td>\n",
       "      <td>True</td>\n",
       "      <td>False</td>\n",
       "      <td>44.99</td>\n",
       "      <td>61</td>\n",
       "      <td>2018</td>\n",
       "    </tr>\n",
       "    <tr>\n",
       "      <th>4</th>\n",
       "      <td>EVE Online</td>\n",
       "      <td>CCP</td>\n",
       "      <td>0.0</td>\n",
       "      <td>11481.0</td>\n",
       "      <td>True</td>\n",
       "      <td>False</td>\n",
       "      <td>0.00</td>\n",
       "      <td>74</td>\n",
       "      <td>2003</td>\n",
       "    </tr>\n",
       "  </tbody>\n",
       "</table>\n",
       "</div>"
      ],
      "text/plain": [
       "                            name            developer  achievements  \\\n",
       "0                           DOOM          id Software          54.0   \n",
       "1  PLAYERUNKNOWN'S BATTLEGROUNDS     PUBG Corporation          37.0   \n",
       "2                     BATTLETECH  Harebrained Schemes         128.0   \n",
       "3                           DayZ  Bohemia Interactive           0.0   \n",
       "4                     EVE Online                  CCP           0.0   \n",
       "\n",
       "   num_reviews  multiplayer  mature  price  percent_pos  release_year  \n",
       "0      42550.0         True   False  19.99           92          2016  \n",
       "1     836608.0         True    True  29.99           49          2017  \n",
       "2       7030.0         True   False  39.99           71          2018  \n",
       "3     167115.0         True   False  44.99           61          2018  \n",
       "4      11481.0         True   False   0.00           74          2003  "
      ]
     },
     "execution_count": 31,
     "metadata": {},
     "output_type": "execute_result"
    }
   ],
   "source": [
    "df.head()"
   ]
  },
  {
   "cell_type": "markdown",
   "id": "bd01d08f",
   "metadata": {},
   "source": [
    "* Will remove \"name\"\n",
    "* Will remove \"developer\"\n",
    "* Will encode \"multiplayer\" and \"mature\" to \"True\" or \"False\" to 1 or 0"
   ]
  },
  {
   "cell_type": "code",
   "execution_count": 32,
   "id": "0f263d93",
   "metadata": {},
   "outputs": [
    {
     "name": "stderr",
     "output_type": "stream",
     "text": [
      "C:\\Users\\Luis Andres\\miniconda3\\lib\\site-packages\\seaborn\\_decorators.py:36: FutureWarning: Pass the following variable as a keyword arg: x. From version 0.12, the only valid positional argument will be `data`, and passing other arguments without an explicit keyword will result in an error or misinterpretation.\n",
      "  warnings.warn(\n"
     ]
    },
    {
     "data": {
      "text/plain": [
       "<AxesSubplot:xlabel='num_reviews'>"
      ]
     },
     "execution_count": 32,
     "metadata": {},
     "output_type": "execute_result"
    },
    {
     "data": {
      "image/png": "[encoded data removed]",
      "text/plain": [
       "<Figure size 576x288 with 1 Axes>"
      ]
     },
     "metadata": {},
     "output_type": "display_data"
    }
   ],
   "source": [
    "sns.boxplot(df[\"num_reviews\"])"
   ]
  },
  {
   "cell_type": "code",
   "execution_count": 33,
   "id": "d85cb330",
   "metadata": {},
   "outputs": [],
   "source": [
    "dropped = df.copy()\n",
    "dropped.drop(columns=[\"name\",\"developer\"], inplace=True)"
   ]
  },
  {
   "cell_type": "code",
   "execution_count": 34,
   "id": "9d74a495",
   "metadata": {},
   "outputs": [],
   "source": [
    "achivements = dropped\n",
    "achivements[\"achievements\"] = achivements[\"achievements\"].map(lambda x: 0 if x == 0 else x)"
   ]
  },
  {
   "cell_type": "code",
   "execution_count": 35,
   "id": "f6bbeea9",
   "metadata": {},
   "outputs": [],
   "source": [
    "def review(x):\n",
    "    if x == 0:\n",
    "        return \"no reviews\"\n",
    "    elif (x > 0) & (x < 20000):\n",
    "        return \"popular\"\n",
    "    elif (x >= 20000) & (x < 40000):\n",
    "        return \"very popular\"\n",
    "    elif x > 40000:\n",
    "        return \"top\"\n",
    "    else:\n",
    "        return ValueError\n",
    "\n",
    "def released(x):\n",
    "    if x < 2000:\n",
    "        return \"retro\"\n",
    "    elif (x >= 2000) & (x < 2018):\n",
    "        return \"old\"\n",
    "    else:\n",
    "        return \"recent/new\"\n",
    "\n",
    "def per_pos(x):\n",
    "    if x >= 90:\n",
    "        return \"A\"\n",
    "    elif (x >= 80) & (x < 90):\n",
    "        return \"B\"\n",
    "    elif (x >= 70) & (x < 80):\n",
    "        return \"C\"\n",
    "    elif (x >= 60) & (x < 70):\n",
    "        return \"D\"\n",
    "    elif x == 0:\n",
    "        return \"No eval\"\n",
    "    else:\n",
    "        return \"F\""
   ]
  },
  {
   "cell_type": "code",
   "execution_count": 36,
   "id": "486001ca",
   "metadata": {},
   "outputs": [],
   "source": [
    "achivements[\"multiplayer\"] = achivements[\"multiplayer\"].astype(int)\n",
    "achivements[\"mature\"] = achivements[\"mature\"].astype(int)\n",
    "\n",
    "clean_df = achivements.copy()"
   ]
  },
  {
   "cell_type": "markdown",
   "id": "9630a7cc-1403-448c-aefb-1056c8261733",
   "metadata": {},
   "source": [
    "### 4. EDA (Exploratory Data Analysis)"
   ]
  },
  {
   "cell_type": "code",
   "execution_count": 37,
   "id": "e2cdf4f2-cd1a-4e6a-8f5f-81c3d157e59c",
   "metadata": {},
   "outputs": [
    {
     "data": {
      "text/html": [
       "<div>\n",
       "<style scoped>\n",
       "    .dataframe tbody tr th:only-of-type {\n",
       "        vertical-align: middle;\n",
       "    }\n",
       "\n",
       "    .dataframe tbody tr th {\n",
       "        vertical-align: top;\n",
       "    }\n",
       "\n",
       "    .dataframe thead th {\n",
       "        text-align: right;\n",
       "    }\n",
       "</style>\n",
       "<table border=\"1\" class=\"dataframe\">\n",
       "  <thead>\n",
       "    <tr style=\"text-align: right;\">\n",
       "      <th></th>\n",
       "      <th>achievements</th>\n",
       "      <th>num_reviews</th>\n",
       "      <th>price</th>\n",
       "      <th>percent_pos</th>\n",
       "      <th>release_year</th>\n",
       "    </tr>\n",
       "  </thead>\n",
       "  <tbody>\n",
       "    <tr>\n",
       "      <th>count</th>\n",
       "      <td>40817.000000</td>\n",
       "      <td>40817.000000</td>\n",
       "      <td>40817.000000</td>\n",
       "      <td>40817.000000</td>\n",
       "      <td>40817.000000</td>\n",
       "    </tr>\n",
       "    <tr>\n",
       "      <th>mean</th>\n",
       "      <td>23.074552</td>\n",
       "      <td>554.128525</td>\n",
       "      <td>12.276223</td>\n",
       "      <td>31.780386</td>\n",
       "      <td>2016.220129</td>\n",
       "    </tr>\n",
       "    <tr>\n",
       "      <th>std</th>\n",
       "      <td>247.670551</td>\n",
       "      <td>7558.707616</td>\n",
       "      <td>44.739483</td>\n",
       "      <td>38.872909</td>\n",
       "      <td>3.360579</td>\n",
       "    </tr>\n",
       "    <tr>\n",
       "      <th>min</th>\n",
       "      <td>0.000000</td>\n",
       "      <td>0.000000</td>\n",
       "      <td>0.000000</td>\n",
       "      <td>0.000000</td>\n",
       "      <td>1981.000000</td>\n",
       "    </tr>\n",
       "    <tr>\n",
       "      <th>25%</th>\n",
       "      <td>0.000000</td>\n",
       "      <td>0.000000</td>\n",
       "      <td>0.990000</td>\n",
       "      <td>0.000000</td>\n",
       "      <td>2015.000000</td>\n",
       "    </tr>\n",
       "    <tr>\n",
       "      <th>50%</th>\n",
       "      <td>0.000000</td>\n",
       "      <td>0.000000</td>\n",
       "      <td>4.990000</td>\n",
       "      <td>0.000000</td>\n",
       "      <td>2017.000000</td>\n",
       "    </tr>\n",
       "    <tr>\n",
       "      <th>75%</th>\n",
       "      <td>9.000000</td>\n",
       "      <td>42.000000</td>\n",
       "      <td>9.990000</td>\n",
       "      <td>74.000000</td>\n",
       "      <td>2018.000000</td>\n",
       "    </tr>\n",
       "    <tr>\n",
       "      <th>max</th>\n",
       "      <td>9821.000000</td>\n",
       "      <td>836608.000000</td>\n",
       "      <td>999.000000</td>\n",
       "      <td>100.000000</td>\n",
       "      <td>2025.000000</td>\n",
       "    </tr>\n",
       "  </tbody>\n",
       "</table>\n",
       "</div>"
      ],
      "text/plain": [
       "       achievements    num_reviews         price   percent_pos  release_year\n",
       "count  40817.000000   40817.000000  40817.000000  40817.000000  40817.000000\n",
       "mean      23.074552     554.128525     12.276223     31.780386   2016.220129\n",
       "std      247.670551    7558.707616     44.739483     38.872909      3.360579\n",
       "min        0.000000       0.000000      0.000000      0.000000   1981.000000\n",
       "25%        0.000000       0.000000      0.990000      0.000000   2015.000000\n",
       "50%        0.000000       0.000000      4.990000      0.000000   2017.000000\n",
       "75%        9.000000      42.000000      9.990000     74.000000   2018.000000\n",
       "max     9821.000000  836608.000000    999.000000    100.000000   2025.000000"
      ]
     },
     "execution_count": 37,
     "metadata": {},
     "output_type": "execute_result"
    }
   ],
   "source": [
    "df.describe()"
   ]
  },
  {
   "cell_type": "code",
   "execution_count": 38,
   "id": "a95adef1",
   "metadata": {},
   "outputs": [
    {
     "data": {
      "text/plain": [
       "<AxesSubplot:>"
      ]
     },
     "execution_count": 38,
     "metadata": {},
     "output_type": "execute_result"
    },
    {
     "data": {
      "image/png": "[encoded data removed]",
      "text/plain": [
       "<Figure size 576x288 with 2 Axes>"
      ]
     },
     "metadata": {},
     "output_type": "display_data"
    }
   ],
   "source": [
    "sns.heatmap(clean_df.corr(), annot=True)"
   ]
  },
  {
   "cell_type": "markdown",
   "id": "becde45e",
   "metadata": {},
   "source": [
    "## Modeling"
   ]
  },
  {
   "cell_type": "code",
   "execution_count": 39,
   "id": "6359e783",
   "metadata": {},
   "outputs": [
    {
     "data": {
      "text/plain": [
       "array([4, 1, 0, ..., 0, 0, 0])"
      ]
     },
     "execution_count": 39,
     "metadata": {},
     "output_type": "execute_result"
    }
   ],
   "source": [
    "from sklearn.cluster import KMeans\n",
    "\n",
    "k = 5 # The number of clusters that you want to find\n",
    "\n",
    "kmeans = KMeans(n_clusters=k)\n",
    "\n",
    "y_pred = kmeans.fit_predict(clean_df) # Assigns each instance to a group from 0-4\n",
    "y_pred"
   ]
  },
  {
   "cell_type": "markdown",
   "id": "de05c094",
   "metadata": {},
   "source": [
    "### Testing the number of Clusters"
   ]
  },
  {
   "cell_type": "code",
   "execution_count": 40,
   "id": "581f09ca",
   "metadata": {},
   "outputs": [
    {
     "data": {
      "text/plain": [
       "[2334631355637.431,\n",
       " 964618841376.9609,\n",
       " 513176066809.9824,\n",
       " 282424297368.2451,\n",
       " 190577747694.2088]"
      ]
     },
     "execution_count": 40,
     "metadata": {},
     "output_type": "execute_result"
    }
   ],
   "source": [
    "inertias = [KMeans(n_clusters=i, max_iter= 300).fit(clean_df).inertia_ for i in range(1,6)]\n",
    "inertias"
   ]
  },
  {
   "cell_type": "code",
   "execution_count": 41,
   "id": "d773b37d",
   "metadata": {},
   "outputs": [
    {
     "data": {
      "text/plain": [
       "Text(0, 0.5, 'Sum of squares distances')"
      ]
     },
     "execution_count": 41,
     "metadata": {},
     "output_type": "execute_result"
    },
    {
     "data": {
      "image/png": "[encoded data removed]",
      "text/plain": [
       "<Figure size 576x288 with 1 Axes>"
      ]
     },
     "metadata": {},
     "output_type": "display_data"
    }
   ],
   "source": [
    "plt.plot(range(1,6), inertias)\n",
    "plt.title(\"Elbow method\")\n",
    "plt.xlabel(\"# of clusters\")\n",
    "plt.ylabel(\"Sum of squares distances\")"
   ]
  },
  {
   "cell_type": "markdown",
   "id": "6042785b",
   "metadata": {},
   "source": [
    "There is a clear elbow in k=2"
   ]
  },
  {
   "cell_type": "code",
   "execution_count": 42,
   "id": "0375c468",
   "metadata": {},
   "outputs": [
    {
     "name": "stdout",
     "output_type": "stream",
     "text": [
      "2\n",
      "3\n",
      "4\n",
      "5\n"
     ]
    }
   ],
   "source": [
    "inertias = []\n",
    "sil_scores = []\n",
    "\n",
    "total_range = range(2,6) # silhouette score can't work with just 1 cluster, so start in 2\n",
    "\n",
    "for i in total_range:\n",
    "    print(i)\n",
    "    kmeans = KMeans(n_clusters=i)\n",
    "    kmeans.fit(clean_df)\n",
    "    sil_scores.append(silhouette_score(clean_df, kmeans.labels_))\n",
    "    # Choosing the optimal number of clusters\n",
    "    inertias.append(kmeans.inertia_)"
   ]
  },
  {
   "cell_type": "code",
   "execution_count": 52,
   "id": "277ad6b1",
   "metadata": {},
   "outputs": [
    {
     "data": {
      "text/plain": [
       "Text(0, 0.5, 'Silhouette coefficient')"
      ]
     },
     "execution_count": 52,
     "metadata": {},
     "output_type": "execute_result"
    },
    {
     "data": {
      "image/png": "[encoded data removed]",
      "text/plain": [
       "<Figure size 576x288 with 1 Axes>"
      ]
     },
     "metadata": {},
     "output_type": "display_data"
    }
   ],
   "source": [
    "# Let's keep n_clusters in 2\n",
    "plt.plot(total_range, sil_scores)\n",
    "plt.xticks(range(2,6))\n",
    "plt.xlabel(\"# clusters\")\n",
    "plt.ylabel(\"Silhouette coefficient\")"
   ]
  },
  {
   "cell_type": "markdown",
   "id": "a477d49a",
   "metadata": {},
   "source": [
    "The next max value after 2 clusters is 3. So k=3."
   ]
  },
  {
   "cell_type": "markdown",
   "id": "45b123f7",
   "metadata": {},
   "source": [
    "### K-Means method applied"
   ]
  },
  {
   "cell_type": "code",
   "execution_count": 59,
   "id": "10e40454",
   "metadata": {},
   "outputs": [
    {
     "data": {
      "image/png": "[encoded data removed]",
      "text/plain": [
       "<Figure size 576x288 with 1 Axes>"
      ]
     },
     "metadata": {},
     "output_type": "display_data"
    }
   ],
   "source": [
    "pca = PCA()\n",
    "X = pca.fit_transform(clean_df)\n",
    "\n",
    "kmeans = KMeans(n_clusters=3, max_iter = 300)\n",
    "label = kmeans.fit_predict(clean_df) # y\n",
    "unique_labels = np.unique(label)\n",
    "\n",
    "for i in unique_labels:\n",
    "    plt.scatter(X[label==i, 0], X[label==i,1], label=i, s=20)\n",
    "\n",
    "plt.legend()\n",
    "plt.title(\"video games groups\")\n",
    "plt.show()"
   ]
  }
 ],
 "metadata": {
  "colab": {
   "name": "Welcome to DataCamp Workspaces.ipynb",
   "provenance": []
  },
  "kernelspec": {
   "display_name": "Python 3 (ipykernel)",
   "language": "python",
   "name": "python3"
  },
  "language_info": {
   "codemirror_mode": {
    "name": "ipython",
    "version": 3
   },
   "file_extension": ".py",
   "mimetype": "text/x-python",
   "name": "python",
   "nbconvert_exporter": "python",
   "pygments_lexer": "ipython3",
   "version": "3.9.12"
  }
 },
 "nbformat": 4,
 "nbformat_minor": 5
}
